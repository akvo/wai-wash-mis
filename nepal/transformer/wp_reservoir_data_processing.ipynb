{
 "cells": [
  {
   "cell_type": "code",
   "execution_count": 1,
   "metadata": {},
   "outputs": [],
   "source": [
    "import pandas as pd\n",
    "import numpy as np\n",
    "import string\n",
    "import json"
   ]
  },
  {
   "cell_type": "code",
   "execution_count": 2,
   "metadata": {},
   "outputs": [],
   "source": [
    "## Static Config\n",
    "foreign_key = \"Code\""
   ]
  },
  {
   "cell_type": "code",
   "execution_count": 3,
   "metadata": {},
   "outputs": [],
   "source": [
    "df = pd.read_csv('nep_wp_reservoir_data.csv')"
   ]
  },
  {
   "cell_type": "code",
   "execution_count": 4,
   "metadata": {},
   "outputs": [],
   "source": [
    "## Delete Column with no name\n",
    "df = df.loc[:, ~df.columns.str.contains('^Unnamed')]"
   ]
  },
  {
   "cell_type": "code",
   "execution_count": 5,
   "metadata": {},
   "outputs": [],
   "source": [
    "### Fill Empty Integer Values\n",
    "numerics = ['int16', 'int32', 'int64', 'float16', 'float32', 'float64']\n",
    "#df_num = df.select_dtypes(include=numerics).drop(columns=['Latitude', 'Longitude'])\n",
    "df_num = df.select_dtypes(include=numerics)\n",
    "df_num = df_num.fillna(0.0).astype(np.int32)\n",
    "df[list(df_num)] = df_num\n",
    "df['Yield'] = 0"
   ]
  },
  {
   "cell_type": "code",
   "execution_count": 6,
   "metadata": {},
   "outputs": [],
   "source": [
    "### Replace Empty String Values\n",
    "df_str = df.select_dtypes(include=['object']).fillna(\"\")\n",
    "df[list(df_str)] = df_str"
   ]
  },
  {
   "cell_type": "code",
   "execution_count": 7,
   "metadata": {},
   "outputs": [],
   "source": [
    "## Generate Settings \n",
    "chars =list(string.ascii_uppercase)\n",
    "chars_col = chars + [x+y for x in chars for y in chars]\n",
    "keyname = lambda x,y: {a:y[b] if (a != 'data_point_id') else 'data_point_id' for b, a in enumerate(x)}\n",
    "\n",
    "columns_length = len(list(df))\n",
    "column_names = list(df)"
   ]
  },
  {
   "cell_type": "code",
   "execution_count": 8,
   "metadata": {},
   "outputs": [],
   "source": [
    "### Generate configs\n",
    "index = chars_col[:columns_length]\n",
    "configs = keyname(index, column_names)\n",
    "\n",
    "foreign_key_config = \"\";\n",
    "for key in configs:\n",
    "    if(configs[key].lower() == foreign_key.lower()):\n",
    "        foreign_key_config = key\n",
    "\n",
    "configs['foreign_key'] = foreign_key_config"
   ]
  },
  {
   "cell_type": "code",
   "execution_count": 9,
   "metadata": {},
   "outputs": [],
   "source": [
    "### Replace Dataset Columns\n",
    "df.columns = index"
   ]
  },
  {
   "cell_type": "code",
   "execution_count": 10,
   "metadata": {
    "scrolled": true
   },
   "outputs": [
    {
     "data": {
      "text/plain": [
       "{'A': 'Code',\n",
       " 'B': 'WSS Name',\n",
       " 'C': 'Reservoir RVT No in the Scheme',\n",
       " 'D': 'Reservoir RVT Construction',\n",
       " 'E': 'Reservoir RVT Type',\n",
       " 'F': 'Reservoir Lat',\n",
       " 'G': 'Reservoir Lon',\n",
       " 'H': 'Reservoir Elv',\n",
       " 'I': 'Reservori RVT Capacity (cum)',\n",
       " 'J': 'Reservoir Adequacy of RVT',\n",
       " 'K': 'Reservoir RVT Condition',\n",
       " 'L': 'Reservoir Earthquake Effect',\n",
       " 'M': 'Yield',\n",
       " 'foreign_key': 'A'}"
      ]
     },
     "execution_count": 10,
     "metadata": {},
     "output_type": "execute_result"
    }
   ],
   "source": [
    "configs"
   ]
  },
  {
   "cell_type": "code",
   "execution_count": 11,
   "metadata": {},
   "outputs": [
    {
     "data": {
      "text/plain": [
       "[{'A': 61005025,\n",
       "  'B': 'Hathisude WSS',\n",
       "  'C': 'RVT1',\n",
       "  'D': 0,\n",
       "  'E': 'RCC',\n",
       "  'F': 28,\n",
       "  'G': 81,\n",
       "  'H': 600,\n",
       "  'I': 18,\n",
       "  'J': 'Adequate',\n",
       "  'K': 'Good',\n",
       "  'L': 'None',\n",
       "  'M': 0},\n",
       " {'A': 61005029,\n",
       "  'B': 'BhulkeKapre Water Supply System',\n",
       "  'C': 'RVT1',\n",
       "  'D': 0,\n",
       "  'E': 'Masonary',\n",
       "  'F': 28,\n",
       "  'G': 81,\n",
       "  'H': 559,\n",
       "  'I': 9,\n",
       "  'J': 'Adequate',\n",
       "  'K': 'Minor Repair',\n",
       "  'L': 'None',\n",
       "  'M': 0}]"
      ]
     },
     "execution_count": 11,
     "metadata": {},
     "output_type": "execute_result"
    }
   ],
   "source": [
    "data = list(df.T.to_dict().values())\n",
    "data[:2]"
   ]
  },
  {
   "cell_type": "code",
   "execution_count": 12,
   "metadata": {},
   "outputs": [],
   "source": [
    "### to json\n",
    "df.to_json('../resources/js/data/nep_wp_reservoir_data.json', orient=\"records\", indent=2)\n",
    "\n",
    "with open('../resources/js/data/nep_wp_reservoir_config.json', 'w') as outfile:\n",
    "    json.dump(configs, outfile)"
   ]
  }
 ],
 "metadata": {
  "kernelspec": {
   "display_name": "Python 3",
   "language": "python",
   "name": "python3"
  },
  "language_info": {
   "codemirror_mode": {
    "name": "ipython",
    "version": 3
   },
   "file_extension": ".py",
   "mimetype": "text/x-python",
   "name": "python",
   "nbconvert_exporter": "python",
   "pygments_lexer": "ipython3",
   "version": "3.7.6"
  },
  "toc": {
   "base_numbering": 1,
   "nav_menu": {},
   "number_sections": true,
   "sideBar": true,
   "skip_h1_title": false,
   "title_cell": "Table of Contents",
   "title_sidebar": "Contents",
   "toc_cell": false,
   "toc_position": {},
   "toc_section_display": true,
   "toc_window_display": false
  }
 },
 "nbformat": 4,
 "nbformat_minor": 4
}
