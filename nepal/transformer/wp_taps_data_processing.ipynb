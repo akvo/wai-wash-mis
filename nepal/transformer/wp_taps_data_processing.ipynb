{
 "cells": [
  {
   "cell_type": "code",
   "execution_count": 1,
   "metadata": {},
   "outputs": [],
   "source": [
    "import pandas as pd\n",
    "import numpy as np\n",
    "import string\n",
    "import json"
   ]
  },
  {
   "cell_type": "code",
   "execution_count": 2,
   "metadata": {},
   "outputs": [],
   "source": [
    "## Static Config\n",
    "foreign_key = \"Code\"\n",
    "names = [\"Tap Number\", \"Owner/Representative Name\"]"
   ]
  },
  {
   "cell_type": "code",
   "execution_count": 3,
   "metadata": {},
   "outputs": [],
   "source": [
    "df = pd.read_csv('nep_wp_taps_data.csv')"
   ]
  },
  {
   "cell_type": "code",
   "execution_count": 4,
   "metadata": {},
   "outputs": [],
   "source": [
    "## Delete Column with no name\n",
    "df = df.loc[:, ~df.columns.str.contains('^Unnamed')]"
   ]
  },
  {
   "cell_type": "code",
   "execution_count": 5,
   "metadata": {},
   "outputs": [],
   "source": [
    "### Fill Empty Integer Values\n",
    "numerics = ['int16', 'int32', 'int64', 'float16', 'float32', 'float64']\n",
    "#df_num = df.select_dtypes(include=numerics).drop(columns=['Latitude', 'Longitude'])\n",
    "df_num = df.select_dtypes(include=numerics)\n",
    "df_num = df_num.fillna(0.0).astype(np.int32)\n",
    "df[list(df_num)] = df_num\n",
    "df['Yield'] = 0"
   ]
  },
  {
   "cell_type": "code",
   "execution_count": 6,
   "metadata": {},
   "outputs": [],
   "source": [
    "### Replace Empty String Values\n",
    "df_str = df.select_dtypes(include=['object']).fillna(\"\")\n",
    "df[list(df_str)] = df_str"
   ]
  },
  {
   "cell_type": "code",
   "execution_count": 7,
   "metadata": {},
   "outputs": [],
   "source": [
    "## Generate Settings \n",
    "chars =list(string.ascii_uppercase)\n",
    "chars_col = chars + [x+y for x in chars for y in chars]\n",
    "keyname = lambda x,y: {a:y[b] if (a != 'data_point_id') else 'data_point_id' for b, a in enumerate(x)}\n",
    "\n",
    "columns_length = len(list(df))\n",
    "column_names = list(df)"
   ]
  },
  {
   "cell_type": "code",
   "execution_count": 8,
   "metadata": {},
   "outputs": [],
   "source": [
    "### Generate configs\n",
    "index = chars_col[:columns_length]\n",
    "configs = keyname(index, column_names)\n",
    "\n",
    "foreign_key_config = \"\"\n",
    "name_config = []\n",
    "for key in configs:\n",
    "    if(configs[key].lower() == foreign_key.lower()):\n",
    "        foreign_key_config = key\n",
    "    if(configs[key].lower() in [x.lower() for x in names]):\n",
    "        name_config.append(key)\n",
    "\n",
    "configs['foreign_key'] = foreign_key_config\n",
    "configs['names'] = name_config"
   ]
  },
  {
   "cell_type": "code",
   "execution_count": 9,
   "metadata": {},
   "outputs": [],
   "source": [
    "### Replace Dataset Columns\n",
    "df.columns = index"
   ]
  },
  {
   "cell_type": "code",
   "execution_count": 10,
   "metadata": {
    "scrolled": true
   },
   "outputs": [
    {
     "data": {
      "text/plain": [
       "{'A': 'Code',\n",
       " 'B': 'WSS Name',\n",
       " 'C': 'Tap Number',\n",
       " 'D': 'Owner/Representative Name',\n",
       " 'E': 'Contact Number',\n",
       " 'F': 'Tap Type',\n",
       " 'G': 'Metered Connection (Yes/No)',\n",
       " 'H': 'Number of HH Served',\n",
       " 'I': 'No. of HH (Brahmin/Chhetri)',\n",
       " 'J': 'No. of HH (Janjati)',\n",
       " 'K': 'No. of HH (Dalit)',\n",
       " 'L': 'No. of HH (Minority)',\n",
       " 'M': 'No. of HH having Toilet',\n",
       " 'N': 'Male Population',\n",
       " 'O': 'Female Population',\n",
       " 'P': 'Tap Condition',\n",
       " 'Q': 'Flow Condition',\n",
       " 'R': 'Supply Hours',\n",
       " 'S': 'Tap Water Quality',\n",
       " 'T': 'Earthquake Effect',\n",
       " 'U': 'Number of Complaints Logged this Year',\n",
       " 'V': 'Numbers of Leakage observed in pipeline this year',\n",
       " 'W': 'Yield',\n",
       " 'foreign_key': 'A',\n",
       " 'names': ['C', 'D']}"
      ]
     },
     "execution_count": 10,
     "metadata": {},
     "output_type": "execute_result"
    }
   ],
   "source": [
    "configs"
   ]
  },
  {
   "cell_type": "code",
   "execution_count": 11,
   "metadata": {},
   "outputs": [
    {
     "data": {
      "text/plain": [
       "[{'A': 61005023,\n",
       "  'B': 'Chamere Water Supply System',\n",
       "  'C': 'T2',\n",
       "  'D': 'Pirtha Singh Khadka',\n",
       "  'E': -2147483648,\n",
       "  'F': 'Community',\n",
       "  'G': 'No',\n",
       "  'H': 3,\n",
       "  'I': 0,\n",
       "  'J': 3,\n",
       "  'K': 1,\n",
       "  'L': 0,\n",
       "  'M': 3,\n",
       "  'N': 9,\n",
       "  'O': 12,\n",
       "  'P': 'Reconstruction',\n",
       "  'Q': 'No water at all',\n",
       "  'R': 24,\n",
       "  'S': 'No turbidity',\n",
       "  'T': 'None',\n",
       "  'U': 0,\n",
       "  'V': 0,\n",
       "  'W': 0},\n",
       " {'A': 61005023,\n",
       "  'B': 'Chamere Water Supply System',\n",
       "  'C': 'T1',\n",
       "  'D': 'Gopal Jung Bhandari',\n",
       "  'E': -2147483648,\n",
       "  'F': 'Community',\n",
       "  'G': 'No',\n",
       "  'H': 0,\n",
       "  'I': 0,\n",
       "  'J': 5,\n",
       "  'K': 0,\n",
       "  'L': 5,\n",
       "  'M': 5,\n",
       "  'N': 16,\n",
       "  'O': 17,\n",
       "  'P': 'Reconstruction',\n",
       "  'Q': 'No water at all',\n",
       "  'R': 24,\n",
       "  'S': 'No turbidity',\n",
       "  'T': 'None',\n",
       "  'U': 0,\n",
       "  'V': 0,\n",
       "  'W': 0}]"
      ]
     },
     "execution_count": 11,
     "metadata": {},
     "output_type": "execute_result"
    }
   ],
   "source": [
    "data = list(df.T.to_dict().values())\n",
    "data[:2]"
   ]
  },
  {
   "cell_type": "code",
   "execution_count": 12,
   "metadata": {},
   "outputs": [],
   "source": [
    "### to json\n",
    "df.to_json('../resources/js/data/nep_wp_taps_data.json', orient=\"records\", indent=2)\n",
    "\n",
    "with open('../resources/js/data/nep_wp_taps_config.json', 'w') as outfile:\n",
    "    json.dump(configs, outfile)"
   ]
  }
 ],
 "metadata": {
  "kernelspec": {
   "display_name": "Python 3",
   "language": "python",
   "name": "python3"
  },
  "language_info": {
   "codemirror_mode": {
    "name": "ipython",
    "version": 3
   },
   "file_extension": ".py",
   "mimetype": "text/x-python",
   "name": "python",
   "nbconvert_exporter": "python",
   "pygments_lexer": "ipython3",
   "version": "3.7.6"
  },
  "toc": {
   "base_numbering": 1,
   "nav_menu": {},
   "number_sections": true,
   "sideBar": true,
   "skip_h1_title": false,
   "title_cell": "Table of Contents",
   "title_sidebar": "Contents",
   "toc_cell": false,
   "toc_position": {},
   "toc_section_display": true,
   "toc_window_display": false
  }
 },
 "nbformat": 4,
 "nbformat_minor": 4
}
