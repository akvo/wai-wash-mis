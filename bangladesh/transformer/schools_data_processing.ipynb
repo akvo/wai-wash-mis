{
 "cells": [
  {
   "cell_type": "code",
   "execution_count": null,
   "metadata": {},
   "outputs": [],
   "source": [
    "import pandas as pd\n",
    "import numpy as np\n",
    "import string\n",
    "import json\n",
    "import random"
   ]
  },
  {
   "cell_type": "code",
   "execution_count": null,
   "metadata": {},
   "outputs": [],
   "source": [
    "## Static Config\n",
    "locations = [\n",
    "    {\n",
    "        \"column\": \"District\",\n",
    "        \"name\": \"level1\"\n",
    "    },\n",
    "    {\n",
    "        \"column\": \"Municipality/Union\",\n",
    "        \"name\": \"level2\"\n",
    "    },\n",
    "    {\n",
    "        \"column\": \"Ward Number\",\n",
    "        \"name\": \"level3\"\n",
    "    }\n",
    "]\n",
    "\n",
    "latlong = [\"latitude\", \"longitude\"]\n",
    "charts = [\"drinking water\", \"sanitation\", \"hygiene\"]\n",
    "default = {\n",
    "    \"drinking water\" : [\"Advanced\", \"Basic\", \"Limited\", \"No Service\"],\n",
    "    \"sanitation\": [\"Advanced\", \"Basic\", \"Limited\", \"No Service\"],\n",
    "    \"hygiene\": [\"Advanced\", \"Basic\", \"Limited\", \"No Service\"]\n",
    "}\n",
    "\n",
    "## Table config\n",
    "table = [\n",
    "    {\n",
    "        \"name\": \"water indicators\",\n",
    "        \"column\": \"drinking water\",\n",
    "        \"indicators\": [\n",
    "            \"Is there an improved water source that serves the school?\",\n",
    "            \"What is the type of improved water source?\",\n",
    "        ],\n",
    "    },\n",
    "    {\n",
    "        \"name\": \"sanitation indicators\",\n",
    "        \"column\": \"sanitation\",\n",
    "        \"indicators\": [\n",
    "            \"Does the school have any sanitation facilities?\",\n",
    "            \"What type of sanitation facilities are present?\",\n",
    "            \"In total, how many functioning stances are for females?\",\n",
    "            \"IN total, how many functioning stances are for Males?\",\n",
    "            \"Is there a sanitation facility accessible to students with disabilities?\",\n",
    "            \"Condition of the superstructure, roof, walls, and doors\",\n",
    "            \"Condition are the floor/slabs/platform\"\n",
    "        ],\n",
    "    },\n",
    "    {\n",
    "        \"name\": \"hygiene indicators\",\n",
    "        \"column\": \"hygiene\",\n",
    "        \"indicators\": [\n",
    "            \"Is there a place for handwashing?\",\n",
    "            \"Is there water available at the handwashing station?\",\n",
    "            \"Is there soap at hand washing station?\"\n",
    "        ],\n",
    "    }\n",
    "]\n",
    "\n",
    "## Marker Detail\n",
    "marker = {\n",
    "    \"name\" : \"School Name\",\n",
    "    \"color\": [],\n",
    "    \"detail\": []\n",
    "}\n",
    "\n",
    "main = {\n",
    "    'name':'School Name',\n",
    "    'column': 'School Name',\n",
    "    'indicators': [{\n",
    "        'name': 'Water',\n",
    "        'column': 'Drinking Water'\n",
    "    },{\n",
    "        'name': 'Sanitation',\n",
    "        'column': 'Sanitation'\n",
    "    },{\n",
    "        'name': 'Hygiene',\n",
    "        'column': 'Hygiene'\n",
    "    }]\n",
    "}"
   ]
  },
  {
   "cell_type": "code",
   "execution_count": null,
   "metadata": {},
   "outputs": [],
   "source": [
    "df = pd.read_csv('bd_school_data.csv')"
   ]
  },
  {
   "cell_type": "code",
   "execution_count": null,
   "metadata": {},
   "outputs": [],
   "source": [
    "## Rename level 2\n",
    "def refineLevel2Name(x):\n",
    "    if 'Municipality' in x:\n",
    "        x = x.replace(' Municipality', '')\n",
    "    if 'Municipality' in x or 'Union' in x:\n",
    "        x = x.replace(' Union', '')\n",
    "    return x\n",
    "\n",
    "df['Municipality/Union'] = df['Municipality/Union'].apply(refineLevel2Name)"
   ]
  },
  {
   "cell_type": "code",
   "execution_count": null,
   "metadata": {},
   "outputs": [],
   "source": [
    "## Filter Data by Municipality/Union - Agardari & Paurashava\n",
    "df = df[(df['Municipality/Union'] == 'Paurashava') | (df['Municipality/Union'] == 'Agardari')]\n",
    "df = df.reset_index(drop=True)"
   ]
  },
  {
   "cell_type": "code",
   "execution_count": null,
   "metadata": {},
   "outputs": [],
   "source": [
    "## Delete Column with no name\n",
    "df = df.loc[:, ~df.columns.str.contains('^Unnamed')]"
   ]
  },
  {
   "cell_type": "code",
   "execution_count": null,
   "metadata": {},
   "outputs": [],
   "source": [
    "## Fill Column\n",
    "#default_column = [\"Identifier\", \"Woreda\", \"Kebele\", \"School Name\", \"Lat\", \"Lot\", \"Latitude\", \"Longitude\", \"School Type\", \"Male Pupils\", \"Female Pupils\"]\n",
    "#for column in df.columns:\n",
    "#    if column not in default_column and column != \"Number of Student Toilets Currently Usable\":\n",
    "#        df[column] = df[column].apply(lambda x: random.choice(df[column].dropna().unique()))"
   ]
  },
  {
   "cell_type": "code",
   "execution_count": null,
   "metadata": {},
   "outputs": [],
   "source": [
    "## Fill Number of Student Toilets Currently Usable\n",
    "# def fillToiletUsed(x):\n",
    "#     total = x[\"Male Pupils\"] + x[\"Female Pupils\"]\n",
    "#     return int(random.randint(0,total))\n",
    "\n",
    "# df[\"Male Pupils\"] = 0\n",
    "# df[\"Female Pupils\"] = 0\n",
    "# df[\"Number of Student Toilets Currently Usable\"] = df.apply(fillToiletUsed, axis=1)"
   ]
  },
  {
   "cell_type": "code",
   "execution_count": null,
   "metadata": {},
   "outputs": [],
   "source": [
    "### Fill Empty Integer Values\n",
    "numerics = ['int16', 'int32', 'int64', 'float16', 'float32', 'float64']\n",
    "df_num = df.select_dtypes(include=numerics).drop(columns=['Latitude', 'Longitude'])\n",
    "df_num = df_num.fillna(0.0).astype(np.int32)\n",
    "df[list(df_num)] = df_num"
   ]
  },
  {
   "cell_type": "code",
   "execution_count": null,
   "metadata": {},
   "outputs": [],
   "source": [
    "### Replace Empty String Values\n",
    "df_str = df.select_dtypes(include=['object']).fillna(\"N/A\")\n",
    "for strcol in list(df_str):\n",
    "    df_str[strcol] = df_str[strcol].str.strip()\n",
    "df[list(df_str)] = df_str"
   ]
  },
  {
   "cell_type": "code",
   "execution_count": null,
   "metadata": {},
   "outputs": [],
   "source": [
    "## Generate Settings \n",
    "chars =list(string.ascii_uppercase)\n",
    "chars_col = chars + [x+y for x in chars for y in chars]\n",
    "keyname = lambda x,y: {a:y[b] if (a != 'data_point_id') else 'data_point_id' for b, a in enumerate(x)}\n",
    "\n",
    "columns_length = len(list(df))\n",
    "column_names = list(df)"
   ]
  },
  {
   "cell_type": "code",
   "execution_count": null,
   "metadata": {},
   "outputs": [],
   "source": [
    "### Generate configs\n",
    "index = chars_col[:columns_length]\n",
    "configs = keyname(index, column_names)\n",
    "\n",
    "marker_config = {}\n",
    "chart_config = []\n",
    "latlong_config = {}\n",
    "for key in configs:\n",
    "    if(configs[key].lower() in charts):\n",
    "        chart_config.append({'key': key, 'name': configs[key], 'value': default[configs[key].lower()]})\n",
    "    if(configs[key].lower() in latlong):\n",
    "        latlong_config.update({configs[key].lower(): key})\n",
    "    if(configs[key].lower() == marker['name'].lower()):\n",
    "        marker_config = { \"name\" : key}\n",
    "\n",
    "### Locations\n",
    "loc_config = {}\n",
    "for loc in locations:\n",
    "    column_index = \"\"\n",
    "    for key in configs:\n",
    "        if loc['column'].lower() == configs[key].lower():\n",
    "            column_index = key\n",
    "    loc_config.update({loc['name'].lower(): column_index})\n",
    "\n",
    "\n",
    "#### Table\n",
    "table_config = []\n",
    "for tb in table:\n",
    "    column_index = \"\"\n",
    "    tb_indicators = []\n",
    "    for key in configs:\n",
    "        if tb['column'].lower() == configs[key].lower():\n",
    "            column_index = key\n",
    "        if configs[key].lower() in [x.lower() for x in tb['indicators']]:\n",
    "            tb_indicators.append(key)\n",
    "    table_config.append({\n",
    "        \"key\": column_index,\n",
    "        \"name\": tb['name'],\n",
    "        \"indicators\": tb_indicators\n",
    "    })\n",
    "\n",
    "#### Marker\n",
    "marker_color = [];\n",
    "for mk in marker['color']:\n",
    "    column = None\n",
    "    andColumn = None\n",
    "    for key in configs:\n",
    "        if configs[key].lower() == mk['column'].lower():\n",
    "            column = key\n",
    "        if mk['and'] != None and configs[key].lower() == mk['and'].lower():\n",
    "            andColumn = key\n",
    "    marker_color.append({\n",
    "        \"name\": mk['name'],\n",
    "        \"column\": column,\n",
    "        \"action\": mk['action'],\n",
    "        \"type\": mk['type'],\n",
    "        \"value\": mk['value'],\n",
    "        \"and\": andColumn,\n",
    "        \"and_value\": mk['and_value'],\n",
    "        \"color\": mk['color']\n",
    "    })\n",
    "marker_config['color'] = marker_color\n",
    "\n",
    "#### Marker Detail\n",
    "marker_detail = [];\n",
    "for mk in marker['detail']:\n",
    "    column = None\n",
    "    andColumn = None\n",
    "    for key in configs:\n",
    "        if configs[key].lower() == mk['column'].lower():\n",
    "            column = key\n",
    "        if mk['and'] != None and configs[key].lower() == mk['and'].lower():\n",
    "            andColumn = key\n",
    "    marker_detail.append({\n",
    "        \"name\": mk['name'],\n",
    "        \"column\": column,\n",
    "        \"action\": mk['action'],\n",
    "        \"type\": mk['type'],\n",
    "        \"value\": mk['value'],\n",
    "        \"and\": andColumn,\n",
    "        \"and_value\": mk['and_value']\n",
    "    })\n",
    "marker_config['detail'] = marker_detail\n",
    "    \n",
    "## Main Table\n",
    "main_config = {'name':main['name']}\n",
    "indicators = []\n",
    "for key in configs:\n",
    "    if configs[key] == main['column']:\n",
    "        main_config.update({'key':key})\n",
    "    for i in main['indicators']:\n",
    "        if configs[key] == i['column']:\n",
    "            indicators.append({'name':i['name'],'key':key})\n",
    "main_config.update({'indicators':indicators})\n",
    "            \n",
    "configs['charts'] = chart_config\n",
    "configs['marker'] = marker_config \n",
    "configs['locations'] = loc_config\n",
    "configs['latlong'] = latlong_config\n",
    "configs['table'] = table_config\n",
    "configs['main'] = main_config"
   ]
  },
  {
   "cell_type": "code",
   "execution_count": null,
   "metadata": {},
   "outputs": [],
   "source": [
    "### Replace Dataset Columns\n",
    "df.columns = index"
   ]
  },
  {
   "cell_type": "code",
   "execution_count": null,
   "metadata": {
    "scrolled": false
   },
   "outputs": [],
   "source": [
    "configs"
   ]
  },
  {
   "cell_type": "code",
   "execution_count": null,
   "metadata": {},
   "outputs": [],
   "source": [
    "data = list(df.T.to_dict().values())\n",
    "data[:2]"
   ]
  },
  {
   "cell_type": "code",
   "execution_count": null,
   "metadata": {},
   "outputs": [],
   "source": [
    "### to json\n",
    "df.to_json('../resources/js/data/bd_school_data.json', orient=\"records\", indent=2)\n",
    "\n",
    "with open('../resources/js/data/bd_school_config.json', 'w') as outfile:\n",
    "    json.dump(configs, outfile)"
   ]
  }
 ],
 "metadata": {
  "kernelspec": {
   "display_name": "Python 3",
   "language": "python",
   "name": "python3"
  },
  "language_info": {
   "codemirror_mode": {
    "name": "ipython",
    "version": 3
   },
   "file_extension": ".py",
   "mimetype": "text/x-python",
   "name": "python",
   "nbconvert_exporter": "python",
   "pygments_lexer": "ipython3",
   "version": "3.7.6"
  },
  "toc": {
   "base_numbering": 1,
   "nav_menu": {},
   "number_sections": true,
   "sideBar": true,
   "skip_h1_title": false,
   "title_cell": "Table of Contents",
   "title_sidebar": "Contents",
   "toc_cell": false,
   "toc_position": {},
   "toc_section_display": true,
   "toc_window_display": false
  }
 },
 "nbformat": 4,
 "nbformat_minor": 4
}
