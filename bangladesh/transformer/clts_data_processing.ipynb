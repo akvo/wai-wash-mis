{
 "cells": [
  {
   "cell_type": "code",
   "execution_count": null,
   "metadata": {},
   "outputs": [],
   "source": [
    "import pandas as pd\n",
    "import numpy as np\n",
    "import string\n",
    "import json\n",
    "import random\n",
    "import datetime"
   ]
  },
  {
   "cell_type": "code",
   "execution_count": null,
   "metadata": {},
   "outputs": [],
   "source": [
    "## Static Config\n",
    "locations = [\"woreda\", \"kebele\"]\n",
    "latlong = [\"latitude\", \"longitude\"]\n",
    "charts = [\n",
    "    {\n",
    "        \"name\": \"Communitites ODF\",\n",
    "        \"column\" : \"ODF Status\",\n",
    "        \"action\": \"percentage\",\n",
    "        \"type\": \"bar\",\n",
    "        \"value\": \"ODF\",\n",
    "        \"and\": None,\n",
    "        \"and_value\": None,\n",
    "    },\n",
    "    {\n",
    "        \"name\":  \"Communities Triggered but Not Yet ODF\",\n",
    "        \"column\" : \"ODF Status\",\n",
    "        \"action\": \"percentage\",\n",
    "        \"type\": \"bar\",\n",
    "        \"value\": \"OD\",\n",
    "        \"and\": \"Date Triggered\",\n",
    "        \"and_value\": \"not null\" \n",
    "    }\n",
    "]\n",
    "\n",
    "## Table config\n",
    "table = [\n",
    "    {\n",
    "        \"name\": \"Summary Data\",\n",
    "        \"type\": \"summary\",\n",
    "        \"indicators\": [\n",
    "            {\n",
    "                \"name\": \"Total Number of Communities\",\n",
    "                \"column\": \"No. of HHs\",\n",
    "                \"action\": \"sum\",\n",
    "                \"type\": \"number\",\n",
    "                \"value\": None,\n",
    "                \"and\": None,\n",
    "                \"and_value\": None,\n",
    "            },\n",
    "            {\n",
    "                \"name\": \"% of Communities Triggered but not yet ODF\",\n",
    "                \"column\": \"ODF Status\",\n",
    "                \"action\": \"percentage\",\n",
    "                \"type\": \"number\",\n",
    "                \"value\": \"OD\",\n",
    "                \"and\": \"Date Triggered\",\n",
    "                \"and_value\": \"not null\"\n",
    "            },\n",
    "            {\n",
    "                \"name\": \"% of Communities that are ODF\",\n",
    "                \"column\": \"ODF Status\",\n",
    "                \"action\": \"percentage\",\n",
    "                \"type\": \"number\",\n",
    "                \"value\": \"ODF\",\n",
    "                \"and\": None,\n",
    "                \"and_value\": None,\n",
    "            },\n",
    "        ],\n",
    "    },\n",
    "    {\n",
    "        \"name\": \"Detailed Data for Community\",\n",
    "        \"type\": \"detail\",\n",
    "        \"indicators\": [\n",
    "            {\n",
    "                \"name\": \"Number of Households\",\n",
    "                \"column\": \"No. of HHs\",\n",
    "                \"action\": \"select\",\n",
    "                \"type\": \"number\",\n",
    "                \"value\": None,\n",
    "                \"and\": None,\n",
    "                \"and_value\": None,\n",
    "            },\n",
    "            {\n",
    "                \"name\": \"Number of latrines\",\n",
    "                \"column\": \"Number of Latrines\",\n",
    "                \"action\": \"select\",\n",
    "                \"type\": \"number\",\n",
    "                \"value\": None,\n",
    "                \"and\": None,\n",
    "                \"and_value\": None,\n",
    "            },\n",
    "            {\n",
    "                \"name\": \"Date of Triggering\",\n",
    "                \"column\": \"Date Triggered\",\n",
    "                \"action\": \"select\",\n",
    "                \"type\": \"date\",\n",
    "                \"value\": None,\n",
    "                \"and\": None,\n",
    "                \"and_value\": None,\n",
    "            }\n",
    "        ],\n",
    "    },\n",
    "]\n",
    "\n",
    "## Marker Detail\n",
    "marker = {\n",
    "    \"name\" : \"Village\",\n",
    "}"
   ]
  },
  {
   "cell_type": "code",
   "execution_count": null,
   "metadata": {},
   "outputs": [],
   "source": [
    "df = pd.read_csv('eth_clts_data.csv')"
   ]
  },
  {
   "cell_type": "code",
   "execution_count": null,
   "metadata": {},
   "outputs": [],
   "source": [
    "## Delete Column with no name\n",
    "df = df.loc[:, ~df.columns.str.contains('^Unnamed')]"
   ]
  },
  {
   "cell_type": "code",
   "execution_count": null,
   "metadata": {},
   "outputs": [],
   "source": [
    "## Fill Column\n",
    "# default_column = [\"Woreda\", \"Kebele\", \"Village\", \"Latitude\", \"Longitude\"]\n",
    "df[\"No. of HHs\"] = df[\"No. of HHs\"].apply(lambda x: random.randint(20, 200))"
   ]
  },
  {
   "cell_type": "code",
   "execution_count": null,
   "metadata": {},
   "outputs": [],
   "source": [
    "## Fill Column\n",
    "def fillLatrines(x):\n",
    "    maxVal = x[\"No. of HHs\"]\n",
    "    return random.randint(random.choice([20, maxVal]), maxVal)\n",
    "\n",
    "df[\"Number of Latrines\"] = df.apply(fillLatrines, axis=1)"
   ]
  },
  {
   "cell_type": "code",
   "execution_count": null,
   "metadata": {
    "scrolled": true
   },
   "outputs": [],
   "source": [
    "## Fill Column\n",
    "def fillTrigger(x):\n",
    "    startdate=datetime.date(2018,1,1)\n",
    "    date=startdate+datetime.timedelta(random.randint(300,730))\n",
    "    if (x[\"No. of HHs\"] == x[\"Number of Latrines\"]):\n",
    "        return date\n",
    "    if (x[\"Number of Latrines\"] <= random.randint((x[\"No. of HHs\"] - 20), x[\"No. of HHs\"])):\n",
    "        return date\n",
    "    return None\n",
    "\n",
    "df[\"Date Triggered\"] = df.apply(fillTrigger, axis=1)"
   ]
  },
  {
   "cell_type": "code",
   "execution_count": null,
   "metadata": {},
   "outputs": [],
   "source": [
    "## Fill Column\n",
    "def fillStatus(x):\n",
    "    if (x[\"No. of HHs\"] == x[\"Number of Latrines\"] and x[\"Date Triggered\"] != None):\n",
    "        return \"ODF\"\n",
    "    return \"OD\"\n",
    "\n",
    "df[\"ODF Status\"] = df.apply(fillStatus, axis=1)"
   ]
  },
  {
   "cell_type": "code",
   "execution_count": null,
   "metadata": {},
   "outputs": [],
   "source": [
    "## Drop Columns\n",
    "df = df.drop(columns=['Open Defecation Free'])"
   ]
  },
  {
   "cell_type": "code",
   "execution_count": null,
   "metadata": {},
   "outputs": [],
   "source": [
    "### Fill Empty Integer Values\n",
    "numerics = ['int16', 'int32', 'int64', 'float16', 'float32', 'float64']\n",
    "df_num = df.select_dtypes(include=numerics).drop(columns=['Latitude', 'Longitude'])\n",
    "df_num = df_num.fillna(0.0).astype(np.int32)\n",
    "df[list(df_num)] = df_num"
   ]
  },
  {
   "cell_type": "code",
   "execution_count": null,
   "metadata": {},
   "outputs": [],
   "source": [
    "### Replace Empty String Values\n",
    "df_str = df.select_dtypes(include=['object']).fillna(\"\")\n",
    "df[list(df_str)] = df_str"
   ]
  },
  {
   "cell_type": "code",
   "execution_count": null,
   "metadata": {},
   "outputs": [],
   "source": [
    "## Generate Settings \n",
    "chars =list(string.ascii_uppercase)\n",
    "chars_col = chars + [x+y for x in chars for y in chars]\n",
    "keyname = lambda x,y: {a:y[b] if (a != 'data_point_id') else 'data_point_id' for b, a in enumerate(x)}\n",
    "\n",
    "columns_length = len(list(df))\n",
    "column_names = list(df)"
   ]
  },
  {
   "cell_type": "code",
   "execution_count": null,
   "metadata": {},
   "outputs": [],
   "source": [
    "### Generate configs\n",
    "index = chars_col[:columns_length]\n",
    "configs = keyname(index, column_names)\n",
    "\n",
    "marker_config = {}\n",
    "loc_config = {}\n",
    "latlong_config = {}\n",
    "for key in configs:\n",
    "    if(configs[key].lower() in locations):\n",
    "        loc_config.update({configs[key].lower(): key})\n",
    "    if(configs[key].lower() in latlong):\n",
    "        latlong_config.update({configs[key].lower(): key})\n",
    "    if(configs[key].lower() == marker['name'].lower()):\n",
    "        marker_config = { \"name\" : key}\n",
    "        \n",
    "        \n",
    "chart_config = []\n",
    "for ch in charts:\n",
    "    column = None\n",
    "    andColumn = None\n",
    "    for key in configs:\n",
    "        if configs[key].lower() == ch['column'].lower():\n",
    "            column = key\n",
    "        if ch['and'] != None and configs[key].lower() == ch['and'].lower():\n",
    "            andColumn = key\n",
    "    chart_config.append({\n",
    "        \"name\": ch['name'],\n",
    "        \"column\": column,\n",
    "        \"action\": ch['action'],\n",
    "        \"type\": ch['type'],\n",
    "        \"value\": ch['value'],\n",
    "        \"and\": andColumn,\n",
    "        \"and_value\": ch['and_value'],\n",
    "    })\n",
    "\n",
    "\n",
    "\n",
    "\n",
    "\n",
    "#### Table\n",
    "table_config = []\n",
    "for tb in table:\n",
    "    tb_indicators = []\n",
    "    for ind in tb['indicators']:\n",
    "        column = None\n",
    "        andColumn = None;\n",
    "        for key in configs:\n",
    "            if configs[key].lower() == ind[\"column\"].lower():\n",
    "                column = key\n",
    "            if ind[\"and\"] != None and configs[key].lower() == ind['and'].lower():\n",
    "                andColumn = key\n",
    "        tb_indicators.append({ \n",
    "            \"column\": column, \n",
    "            \"name\": ind['name'], \n",
    "            \"action\": ind['action'], \n",
    "            \"type\": ind['type'],\n",
    "            \"value\": ind['value'],\n",
    "            \"and\": andColumn,\n",
    "            \"and_value\": ind['and_value'],\n",
    "        })\n",
    "    table_config.append({\n",
    "        \"name\": tb['name'],\n",
    "        \"type\": tb['type'],\n",
    "        \"indicators\": tb_indicators\n",
    "    })\n",
    "\n",
    "\n",
    "configs['marker'] = marker_config \n",
    "configs['charts'] = chart_config\n",
    "configs['locations'] = loc_config\n",
    "configs['latlong'] = latlong_config\n",
    "configs['table'] = table_config"
   ]
  },
  {
   "cell_type": "code",
   "execution_count": null,
   "metadata": {},
   "outputs": [],
   "source": [
    "configs"
   ]
  },
  {
   "cell_type": "code",
   "execution_count": null,
   "metadata": {},
   "outputs": [],
   "source": [
    "### Replace Dataset Columns\n",
    "df.columns = index"
   ]
  },
  {
   "cell_type": "code",
   "execution_count": null,
   "metadata": {
    "scrolled": false
   },
   "outputs": [],
   "source": [
    "configs"
   ]
  },
  {
   "cell_type": "code",
   "execution_count": null,
   "metadata": {
    "scrolled": true
   },
   "outputs": [],
   "source": [
    "data = list(df.T.to_dict().values())\n",
    "data[:2]"
   ]
  },
  {
   "cell_type": "code",
   "execution_count": null,
   "metadata": {},
   "outputs": [],
   "source": [
    "### to json\n",
    "df.to_json('./eth_clts_data.json', orient=\"records\", indent=2)\n",
    "\n",
    "with open('./eth_clts_config.json', 'w') as outfile:\n",
    "    json.dump(configs, outfile)"
   ]
  }
 ],
 "metadata": {
  "kernelspec": {
   "display_name": "Python 3",
   "language": "python",
   "name": "python3"
  },
  "language_info": {
   "codemirror_mode": {
    "name": "ipython",
    "version": 3
   },
   "file_extension": ".py",
   "mimetype": "text/x-python",
   "name": "python",
   "nbconvert_exporter": "python",
   "pygments_lexer": "ipython3",
   "version": "3.7.6"
  }
 },
 "nbformat": 4,
 "nbformat_minor": 4
}
