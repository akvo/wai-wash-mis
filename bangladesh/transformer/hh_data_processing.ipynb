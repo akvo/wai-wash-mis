{
 "cells": [
  {
   "cell_type": "code",
   "execution_count": null,
   "metadata": {},
   "outputs": [],
   "source": [
    "import pandas as pd\n",
    "import numpy as np\n",
    "import string\n",
    "import json"
   ]
  },
  {
   "cell_type": "code",
   "execution_count": null,
   "metadata": {},
   "outputs": [],
   "source": [
    "## Static Config\n",
    "locations = [\n",
    "    {\n",
    "        \"column\": \"District\",\n",
    "        \"name\": \"level1\"\n",
    "    },\n",
    "    {\n",
    "        \"column\": \"Municipality/Union\",\n",
    "        \"name\": \"level2\"\n",
    "    },\n",
    "    {\n",
    "        \"column\": \"Ward Number\",\n",
    "        \"name\": \"level3\"\n",
    "    }\n",
    "]\n",
    "\n",
    "\n",
    "latlong = [\"latitude\", \"longitude\"]\n",
    "charts = [\"water service level\", \"sanitation service level\", \"hygiene service ladder\"]\n",
    "default = {\n",
    "    \"water service level\" : [\"Safely Managed\", \"Basic\", \"Limited\", \"Unimproved\", \"Surface Water\"],\n",
    "    \"sanitation service level\": [\"Safely Managed\", \"Basic\", \"Limited\", \"Unimproved\", \"Open Defecation\"],\n",
    "    \"hygiene service ladder\": [\"Safely Managed\", \"Basic\", \"Limited\", \"No Facility\"]\n",
    "}\n",
    "\n",
    "\n",
    "## Table config\n",
    "table = [\n",
    "    {\n",
    "        \"name\": \"water indicators\",\n",
    "        \"column\": \"water service level\",\n",
    "        \"indicators\": [\n",
    "            \"Main source of drinking water\",\n",
    "            \"Main source of water for other purposes\",\n",
    "            \"Specific Location of Water Collection\",\n",
    "            \"Time to Collect Water\",\n",
    "            \"Times in Last Month When Drinking Water Quantity Was Insufficient\",\n",
    "            \"Fecal and Chemical Levels Acceptable\"\n",
    "        ],\n",
    "    },\n",
    "    {\n",
    "        \"name\": \"sanitation indicators\",\n",
    "        \"column\": \"sanitation service level\",\n",
    "        \"indicators\": [\n",
    "            \"Type of Toilet Facility\",\n",
    "            \"Facility is shared with others outside of the household\",\n",
    "            \"Location of sanitation facility\",\n",
    "            \"Emptying of on-site sanitation facilities\",\n",
    "            \"Disposal of excreta from onite sanitation facilities\"\n",
    "        ],\n",
    "    },\n",
    "    {\n",
    "        \"name\": \"hygiene indicators\",\n",
    "        \"column\": \"hygiene service ladder\",\n",
    "        \"indicators\": [\n",
    "            \"Type of Handwashing Facility Used Most Often\",\n",
    "            \"Water Available at Handwashing Facility\",\n",
    "            \"Soap Available\"\n",
    "        ],\n",
    "    }\n",
    "]"
   ]
  },
  {
   "cell_type": "code",
   "execution_count": null,
   "metadata": {},
   "outputs": [],
   "source": [
    "df = pd.read_csv('bd_hh_data.csv', error_bad_lines=False)"
   ]
  },
  {
   "cell_type": "code",
   "execution_count": null,
   "metadata": {},
   "outputs": [],
   "source": [
    "## Rename level 2\n",
    "def refineLevel2Name(x):\n",
    "    if 'Municipality' in x:\n",
    "        x = x.replace(' Municipality', '')\n",
    "    if 'Municipality' in x or 'Union' in x:\n",
    "        x = x.replace(' Union', '')\n",
    "    return x\n",
    "\n",
    "df['Municipality/Union'] = df['Municipality/Union'].apply(refineLevel2Name)"
   ]
  },
  {
   "cell_type": "code",
   "execution_count": null,
   "metadata": {},
   "outputs": [],
   "source": [
    "## Filter Data by Municipality/Union - Agardari & Paurashava\n",
    "# df = df[(df['Municipality/Union'] == 'Paurashava') | (df['Municipality/Union'] == 'Agardari')]\n",
    "# df = df.reset_index(drop=True)"
   ]
  },
  {
   "cell_type": "code",
   "execution_count": null,
   "metadata": {},
   "outputs": [],
   "source": [
    "## Delete Column with no name\n",
    "df = df.loc[:, ~df.columns.str.contains('^Unnamed')]"
   ]
  },
  {
   "cell_type": "code",
   "execution_count": null,
   "metadata": {},
   "outputs": [],
   "source": [
    "### Fill Empty Integer Values\n",
    "numerics = ['int16', 'int32', 'int64', 'float16', 'float32', 'float64']\n",
    "df_num = df.select_dtypes(include=numerics).drop(columns=['Latitude', 'Longitude'])\n",
    "df_num = df_num.fillna(0.0).astype(np.int32)\n",
    "df[list(df_num)] = df_num"
   ]
  },
  {
   "cell_type": "code",
   "execution_count": null,
   "metadata": {},
   "outputs": [],
   "source": [
    "### Replace Empty String Values\n",
    "df_str = df.select_dtypes(include=['object']).fillna(\"\")\n",
    "df[list(df_str)] = df_str"
   ]
  },
  {
   "cell_type": "code",
   "execution_count": null,
   "metadata": {},
   "outputs": [],
   "source": [
    "## Generate Settings \n",
    "chars =list(string.ascii_uppercase)\n",
    "chars_col = chars + [x+y for x in chars for y in chars]\n",
    "keyname = lambda x,y: {a:y[b] if (a != 'data_point_id') else 'data_point_id' for b, a in enumerate(x)}\n",
    "\n",
    "columns_length = len(list(df))\n",
    "column_names = list(df)"
   ]
  },
  {
   "cell_type": "code",
   "execution_count": null,
   "metadata": {},
   "outputs": [],
   "source": [
    "### Generate configs\n",
    "index = chars_col[:columns_length]\n",
    "configs = keyname(index, column_names)\n",
    "\n",
    "chart_config = []\n",
    "latlong_config = {}\n",
    "\n",
    "for key in configs:\n",
    "    if(configs[key].lower() in charts):\n",
    "        chart_config.append({'key': key, 'name': configs[key], 'value': default[configs[key].lower()]})\n",
    "    if(configs[key].lower() in latlong):\n",
    "        latlong_config.update({configs[key].lower(): key})\n",
    "\n",
    "### Locations\n",
    "loc_config = {}\n",
    "for loc in locations:\n",
    "    column_index = \"\"\n",
    "    for key in configs:\n",
    "        if loc['column'].lower() == configs[key].lower():\n",
    "            column_index = key\n",
    "    loc_config.update({loc['name'].lower(): column_index})\n",
    "\n",
    "#### Table\n",
    "table_config = []\n",
    "for tb in table:\n",
    "    column_index = \"\"\n",
    "    tb_indicators = []\n",
    "    for key in configs:\n",
    "        if tb['column'].lower() == configs[key].lower():\n",
    "            column_index = key\n",
    "        if configs[key].lower() in [x.lower() for x in tb['indicators']]:\n",
    "            tb_indicators.append(key)\n",
    "    table_config.append({\n",
    "        \"key\": column_index,\n",
    "        \"name\": tb['name'],\n",
    "        \"indicators\": tb_indicators\n",
    "    })\n",
    "\n",
    "            \n",
    "configs['charts'] = chart_config\n",
    "configs['locations'] = loc_config\n",
    "configs['latlong'] = latlong_config\n",
    "configs['table'] = table_config"
   ]
  },
  {
   "cell_type": "code",
   "execution_count": null,
   "metadata": {},
   "outputs": [],
   "source": [
    "### Replace Dataset Columns\n",
    "df.columns = index"
   ]
  },
  {
   "cell_type": "code",
   "execution_count": null,
   "metadata": {
    "scrolled": false
   },
   "outputs": [],
   "source": [
    "configs"
   ]
  },
  {
   "cell_type": "code",
   "execution_count": null,
   "metadata": {},
   "outputs": [],
   "source": [
    "data = list(df.T.to_dict().values())\n",
    "data[:2]"
   ]
  },
  {
   "cell_type": "code",
   "execution_count": null,
   "metadata": {},
   "outputs": [],
   "source": [
    "### to json\n",
    "df.to_json('../resources/js/data/bd_hh_data.json', orient=\"records\", indent=2)\n",
    "\n",
    "with open('../resources/js/data/bd_hh_config.json', 'w') as outfile:\n",
    "    json.dump(configs, outfile)"
   ]
  }
 ],
 "metadata": {
  "kernelspec": {
   "display_name": "Python 3",
   "language": "python",
   "name": "python3"
  },
  "language_info": {
   "codemirror_mode": {
    "name": "ipython",
    "version": 3
   },
   "file_extension": ".py",
   "mimetype": "text/x-python",
   "name": "python",
   "nbconvert_exporter": "python",
   "pygments_lexer": "ipython3",
   "version": "3.7.6"
  },
  "toc": {
   "base_numbering": 1,
   "nav_menu": {},
   "number_sections": true,
   "sideBar": true,
   "skip_h1_title": false,
   "title_cell": "Table of Contents",
   "title_sidebar": "Contents",
   "toc_cell": false,
   "toc_position": {},
   "toc_section_display": true,
   "toc_window_display": false
  }
 },
 "nbformat": 4,
 "nbformat_minor": 4
}
