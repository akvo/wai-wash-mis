{
 "cells": [
  {
   "cell_type": "code",
   "execution_count": 14,
   "metadata": {},
   "outputs": [],
   "source": [
    "import pandas as pd\n",
    "import numpy as np\n",
    "import string\n",
    "import json\n",
    "import random"
   ]
  },
  {
   "cell_type": "code",
   "execution_count": 15,
   "metadata": {},
   "outputs": [],
   "source": [
    "## Static Config\n",
    "locations = [\"woreda\", \"kebele\"]\n",
    "latlong = [\"latitude\", \"longitude\"]\n",
    "charts = [\"water service level\", \"sanitation service level\", \"hygiene service level\"]\n",
    "default = {\n",
    "    \"water service level\" : [\"Advanced\", \"Basic\", \"Limited\", \"No Service\"],\n",
    "    \"sanitation service level\": [\"Advanced\", \"Basic\", \"Limited\", \"No Service\"],\n",
    "    \"hygiene service level\": [\"Advanced\", \"Basic\", \"Limited\", \"No Service\"]\n",
    "}\n",
    "\n",
    "## Table config\n",
    "table = [\n",
    "    {\n",
    "        \"name\": \"water indicators\",\n",
    "        \"column\": \"water service level\",\n",
    "        \"indicators\": [\n",
    "            \"Main Water Supply for the Facility\",\n",
    "            \"Distance of Main Water Supply from Facility\",\n",
    "            \"Water is available at the Time of Survey\",\n",
    "        ],\n",
    "    },\n",
    "    {\n",
    "        \"name\": \"sanitation indicators\",\n",
    "        \"column\": \"sanitation service level\",\n",
    "        \"indicators\": [\n",
    "            \"Type of Toilet for Patients\",\n",
    "            \"At least one toilet is usable\",\n",
    "            \"Toilets dedicated for staff\",\n",
    "            \"Toilets are in sex-separated or gender-neutral rooms\",\n",
    "            \"Toilets have menstrual hygiene facilites\",\n",
    "            \"Toilets accessible for people with limited mobility\",\n",
    "        ],\n",
    "    },\n",
    "    {\n",
    "        \"name\": \"hygiene indicators\",\n",
    "        \"column\": \"hygiene service level\",\n",
    "        \"indicators\": [\n",
    "            \"Functional Hand Hygien Facility at Points of Care\",\n",
    "            \"Functional handwashing facility at one or more toilets\",\n",
    "        ],\n",
    "    }\n",
    "]"
   ]
  },
  {
   "cell_type": "code",
   "execution_count": 16,
   "metadata": {},
   "outputs": [],
   "source": [
    "df = pd.read_csv('ug_health_data.csv')"
   ]
  },
  {
   "cell_type": "code",
   "execution_count": 17,
   "metadata": {},
   "outputs": [],
   "source": [
    "## Delete Column with no name\n",
    "df = df.loc[:, ~df.columns.str.contains('^Unnamed')]"
   ]
  },
  {
   "cell_type": "code",
   "execution_count": 18,
   "metadata": {},
   "outputs": [],
   "source": [
    "## Fill Column\n",
    "#default_column = [\"Identifier\", \"Woreda\", \"Kebele\", \"Name_of_Health_facility\", \"Latitude\", \"Longitude\", \"Type_of_healthy_facility\"]\n",
    "#for column in df.columns:\n",
    "#    if column not in default_column and column != \"Environmental Cleaning Service Level\":\n",
    "#        df[column] = df[column].apply(lambda x: random.choice(df[column].dropna().unique()))"
   ]
  },
  {
   "cell_type": "code",
   "execution_count": 19,
   "metadata": {},
   "outputs": [],
   "source": [
    "### Fill Empty Integer Values\n",
    "numerics = ['int16', 'int32', 'int64', 'float16', 'float32', 'float64']\n",
    "df_num = df.select_dtypes(include=numerics).drop(columns=['Latitude', 'Longitude'])\n",
    "df_num = df_num.fillna(0.0).astype(np.int32)\n",
    "df[list(df_num)] = df_num"
   ]
  },
  {
   "cell_type": "code",
   "execution_count": 20,
   "metadata": {},
   "outputs": [],
   "source": [
    "### Replace Empty String Values\n",
    "df_str = df.select_dtypes(include=['object']).fillna(\"\")\n",
    "for strcol in list(df_str):\n",
    "    df_str[strcol] = df_str[strcol].str.strip()\n",
    "df[list(df_str)] = df_str"
   ]
  },
  {
   "cell_type": "code",
   "execution_count": 21,
   "metadata": {},
   "outputs": [],
   "source": [
    "## Generate Settings \n",
    "chars =list(string.ascii_uppercase)\n",
    "chars_col = chars + [x+y for x in chars for y in chars]\n",
    "keyname = lambda x,y: {a:y[b] if (a != 'data_point_id') else 'data_point_id' for b, a in enumerate(x)}\n",
    "\n",
    "columns_length = len(list(df))\n",
    "column_names = list(df)"
   ]
  },
  {
   "cell_type": "code",
   "execution_count": 22,
   "metadata": {},
   "outputs": [],
   "source": [
    "### Generate configs\n",
    "index = chars_col[:columns_length]\n",
    "configs = keyname(index, column_names)\n",
    "\n",
    "chart_config = []\n",
    "loc_config = {}\n",
    "latlong_config = {}\n",
    "for key in configs:\n",
    "    if(configs[key].lower() in charts):\n",
    "        chart_config.append({'key': key, 'name': configs[key], 'value': default[configs[key].lower()]})\n",
    "    if(configs[key].lower() in locations):\n",
    "        loc_config.update({configs[key].lower(): key})\n",
    "    if(configs[key].lower() in latlong):\n",
    "        latlong_config.update({configs[key].lower(): key})\n",
    "        \n",
    "\n",
    "#### Table\n",
    "table_config = []\n",
    "for tb in table:\n",
    "    column_index = \"\"\n",
    "    tb_indicators = []\n",
    "    for key in configs:\n",
    "        if tb['column'].lower() == configs[key].lower():\n",
    "            column_index = key\n",
    "        if configs[key].lower() in [x.lower() for x in tb['indicators']]:\n",
    "            tb_indicators.append(key)\n",
    "    table_config.append({\n",
    "        \"key\": column_index,\n",
    "        \"name\": tb['name'],\n",
    "        \"indicators\": tb_indicators\n",
    "    })\n",
    "\n",
    "            \n",
    "configs['charts'] = chart_config\n",
    "configs['locations'] = loc_config\n",
    "configs['latlong'] = latlong_config\n",
    "configs['table'] = table_config"
   ]
  },
  {
   "cell_type": "code",
   "execution_count": 23,
   "metadata": {},
   "outputs": [],
   "source": [
    "### Replace Dataset Columns\n",
    "df.columns = index"
   ]
  },
  {
   "cell_type": "code",
   "execution_count": 24,
   "metadata": {
    "scrolled": false
   },
   "outputs": [
    {
     "data": {
      "text/plain": [
       "{'A': 'Identifier',\n",
       " 'B': 'Woreda',\n",
       " 'C': 'Kebele',\n",
       " 'D': 'Parish',\n",
       " 'E': 'Village',\n",
       " 'F': 'Name_of_Health_facility',\n",
       " 'G': 'Latitude',\n",
       " 'H': 'Longitude',\n",
       " 'I': 'Health Facility Level',\n",
       " 'J': 'Type of Health Facility',\n",
       " 'K': 'Average Number of Patients Per Day',\n",
       " 'L': 'Water Service Level',\n",
       " 'M': 'Main Water Supply for the Facility',\n",
       " 'N': 'Distance of Main Water Supply from Facility',\n",
       " 'O': 'Water is available at the Time of Survey',\n",
       " 'P': 'Sanitation Service Level',\n",
       " 'Q': 'Is there an improved toilet with permanent superstructure (Wall constructed of Bricks with concrete floor slab and Galvanised iron sheet roofing).',\n",
       " 'R': 'Type of Toilet for Patients',\n",
       " 'S': 'At least one toilet is usable',\n",
       " 'T': 'Toilets dedicated for staff',\n",
       " 'U': 'Toilets are in sex-separated or gender-neutral rooms',\n",
       " 'V': 'Toilets have menstrual hygiene facilites',\n",
       " 'W': 'Toilets accessible for people with limited mobility',\n",
       " 'X': 'Hygiene Service Level',\n",
       " 'Y': 'Functional Hand Hygien Facility at Points of Care',\n",
       " 'Z': 'Functional handwashing facility at one or more toilets',\n",
       " 'AA': 'Health Care Waste Service Level',\n",
       " 'AB': 'Waste is Correctly Segregated into at Least Three Labelled Bins in the Consultation Area',\n",
       " 'AC': 'Main method for Disposing Infectious Waste',\n",
       " 'AD': 'Main method used for disposing Sharps Waste',\n",
       " 'AE': 'Environmental Cleaning Service Level',\n",
       " 'AF': 'Cleaning protocols are available',\n",
       " 'AG': 'All Staff Responsible for Cleaning Received Training',\n",
       " 'charts': [{'key': 'L',\n",
       "   'name': 'Water Service Level',\n",
       "   'value': ['Advanced', 'Basic', 'Limited', 'No Service']},\n",
       "  {'key': 'P',\n",
       "   'name': 'Sanitation Service Level',\n",
       "   'value': ['Advanced', 'Basic', 'Limited', 'No Service']},\n",
       "  {'key': 'X',\n",
       "   'name': 'Hygiene Service Level',\n",
       "   'value': ['Advanced', 'Basic', 'Limited', 'No Service']}],\n",
       " 'locations': {'woreda': 'B', 'kebele': 'C'},\n",
       " 'latlong': {'latitude': 'G', 'longitude': 'H'},\n",
       " 'table': [{'key': 'L',\n",
       "   'name': 'water indicators',\n",
       "   'indicators': ['M', 'N', 'O']},\n",
       "  {'key': 'P',\n",
       "   'name': 'sanitation indicators',\n",
       "   'indicators': ['R', 'S', 'T', 'U', 'V', 'W']},\n",
       "  {'key': 'X', 'name': 'hygiene indicators', 'indicators': ['Y', 'Z']}]}"
      ]
     },
     "execution_count": 24,
     "metadata": {},
     "output_type": "execute_result"
    }
   ],
   "source": [
    "configs"
   ]
  },
  {
   "cell_type": "code",
   "execution_count": 26,
   "metadata": {},
   "outputs": [
    {
     "data": {
      "text/plain": [
       "[{'A': 'xyjv-dksm-buf9',\n",
       "  'B': 'Agago',\n",
       "  'C': 'Kotomol',\n",
       "  'D': 'Apobo',\n",
       "  'E': 'Kotomor East',\n",
       "  'F': 'Kotomor  Health Center',\n",
       "  'G': 2.64305378,\n",
       "  'H': 33.34821977,\n",
       "  'I': 'HC III',\n",
       "  'J': 'Government Health Facility',\n",
       "  'K': 30,\n",
       "  'L': 'Basic',\n",
       "  'M': 'Rain water harvesting',\n",
       "  'N': 'On premises',\n",
       "  'O': 'Yes',\n",
       "  'P': 'Limited',\n",
       "  'Q': 'Yes',\n",
       "  'R': 0,\n",
       "  'S': 'Yes',\n",
       "  'T': 'No',\n",
       "  'U': 'Yes',\n",
       "  'V': 0,\n",
       "  'W': 0,\n",
       "  'X': 'No Service',\n",
       "  'Y': 'Yes',\n",
       "  'Z': 'No',\n",
       "  'AA': 'Basic',\n",
       "  'AB': 'Yes',\n",
       "  'AC': '',\n",
       "  'AD': 0,\n",
       "  'AE': 'Basic',\n",
       "  'AF': 'Yes',\n",
       "  'AG': 'Yes'},\n",
       " {'A': 'b942-qhhn-uq48',\n",
       "  'B': 'Agago',\n",
       "  'C': 'Kuywee',\n",
       "  'D': 'Paluti',\n",
       "  'E': 'Kuywee West',\n",
       "  'F': 'Kuywee Health centre II',\n",
       "  'G': 3.05747981,\n",
       "  'H': 33.30269658,\n",
       "  'I': 'HC II',\n",
       "  'J': 'Government Health Facility',\n",
       "  'K': 40,\n",
       "  'L': 'Limited',\n",
       "  'M': 'Deep borehole',\n",
       "  'N': 'On premises',\n",
       "  'O': '',\n",
       "  'P': 'Limited',\n",
       "  'Q': 'Yes',\n",
       "  'R': 0,\n",
       "  'S': 'Yes',\n",
       "  'T': 'No',\n",
       "  'U': 'Yes',\n",
       "  'V': 0,\n",
       "  'W': 0,\n",
       "  'X': 'Basic',\n",
       "  'Y': 'Yes',\n",
       "  'Z': 'Yes',\n",
       "  'AA': 'Basic',\n",
       "  'AB': 'Yes',\n",
       "  'AC': '',\n",
       "  'AD': 0,\n",
       "  'AE': 'Basic',\n",
       "  'AF': 'No',\n",
       "  'AG': 'Yes'}]"
      ]
     },
     "execution_count": 26,
     "metadata": {},
     "output_type": "execute_result"
    }
   ],
   "source": [
    "data = list(df.T.to_dict().values())\n",
    "data[:2]"
   ]
  },
  {
   "cell_type": "code",
   "execution_count": 27,
   "metadata": {},
   "outputs": [],
   "source": [
    "### to json\n",
    "df.to_json('../resources/js/data/ug_health_data.json', orient=\"records\", indent=2)\n",
    "\n",
    "with open('../resources/js/data/ug_health_config.json', 'w') as outfile:\n",
    "    json.dump(configs, outfile)"
   ]
  },
  {
   "cell_type": "code",
   "execution_count": null,
   "metadata": {},
   "outputs": [],
   "source": []
  }
 ],
 "metadata": {
  "kernelspec": {
   "display_name": "Python 3",
   "language": "python",
   "name": "python3"
  },
  "language_info": {
   "codemirror_mode": {
    "name": "ipython",
    "version": 3
   },
   "file_extension": ".py",
   "mimetype": "text/x-python",
   "name": "python",
   "nbconvert_exporter": "python",
   "pygments_lexer": "ipython3",
   "version": "3.8.5"
  },
  "toc": {
   "base_numbering": 1,
   "nav_menu": {},
   "number_sections": true,
   "sideBar": true,
   "skip_h1_title": false,
   "title_cell": "Table of Contents",
   "title_sidebar": "Contents",
   "toc_cell": false,
   "toc_position": {},
   "toc_section_display": true,
   "toc_window_display": false
  }
 },
 "nbformat": 4,
 "nbformat_minor": 4
}
