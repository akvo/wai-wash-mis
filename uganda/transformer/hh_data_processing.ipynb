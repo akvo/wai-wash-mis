{
 "cells": [
  {
   "cell_type": "code",
   "execution_count": 1,
   "metadata": {},
   "outputs": [],
   "source": [
    "import pandas as pd\n",
    "import numpy as np\n",
    "import string\n",
    "import json"
   ]
  },
  {
   "cell_type": "code",
   "execution_count": 2,
   "metadata": {},
   "outputs": [],
   "source": [
    "## Static Config\n",
    "locations = [\"woreda\", \"kebele\"]\n",
    "latlong = [\"latitude\", \"longitude\"]\n",
    "charts = [\"water service level\", \"sanitation service level\", \"hygiene\"]\n",
    "default = {\n",
    "    \"water service level\" : [\"Safely Managed\", \"Basic\", \"Limited\", \"Unimproved\", \"Surface Water\"],\n",
    "    \"sanitation service level\": [\"Safely Managed\", \"Basic\", \"Limited\", \"Unimproved\", \"Open Defecation\"],\n",
    "    \"hygiene\": [\"Safely Managed\", \"Basic\", \"Limited\", \"No Facility\"]\n",
    "}\n",
    "\n",
    "\n",
    "## Table config\n",
    "table = [\n",
    "    {\n",
    "        \"name\": \"water indicators\",\n",
    "        \"column\": \"water service level\",\n",
    "        \"indicators\": [\n",
    "            \"Main source of drinking water\",\n",
    "            \"Main source of water for other purposes\",\n",
    "            \"Specific Location of Water Collection\",\n",
    "            \"Time to Collect Water\",\n",
    "            \"Times in Last Month When Drinking Water Quantity Was Insufficient\",\n",
    "            \"Fecal and Chemical Levels Acceptable\"\n",
    "        ],\n",
    "    },\n",
    "    {\n",
    "        \"name\": \"sanitation indicators\",\n",
    "        \"column\": \"sanitation service level\",\n",
    "        \"indicators\": [\n",
    "            \"Type of Toilet Facility\",\n",
    "            \"Facility is shared with others outside of the household\",\n",
    "            \"Location of sanitation facility\",\n",
    "            \"Emptying of on-site sanitation facilities\",\n",
    "            \"Disposal of excreta from onite sanitation facilities\"\n",
    "        ],\n",
    "    },\n",
    "    {\n",
    "        \"name\": \"hygiene indicators\",\n",
    "        \"column\": \"hygiene\",\n",
    "        \"indicators\": [\n",
    "            \"Type of Handwashing Facility Used Most Often\",\n",
    "            \"Water Available at Handwashing Facility\",\n",
    "            \"Soap Available\"\n",
    "        ],\n",
    "    }\n",
    "]"
   ]
  },
  {
   "cell_type": "code",
   "execution_count": 3,
   "metadata": {},
   "outputs": [],
   "source": [
    "df = pd.read_csv('ug_hh_data.csv', error_bad_lines=False)"
   ]
  },
  {
   "cell_type": "code",
   "execution_count": 4,
   "metadata": {},
   "outputs": [],
   "source": [
    "## Delete Column with no name\n",
    "df = df.loc[:, ~df.columns.str.contains('^Unnamed')]"
   ]
  },
  {
   "cell_type": "code",
   "execution_count": 5,
   "metadata": {},
   "outputs": [],
   "source": [
    "### Fill Empty Integer Values\n",
    "numerics = ['int16', 'int32', 'int64', 'float16', 'float32', 'float64']\n",
    "df_num = df.select_dtypes(include=numerics).drop(columns=['Latitude', 'Longitude'])\n",
    "df_num = df_num.fillna(0.0).astype(np.int32)\n",
    "df[list(df_num)] = df_num"
   ]
  },
  {
   "cell_type": "code",
   "execution_count": 6,
   "metadata": {},
   "outputs": [],
   "source": [
    "### Replace Empty String Values\n",
    "df_str = df.select_dtypes(include=['object']).fillna(\"\")\n",
    "df[list(df_str)] = df_str"
   ]
  },
  {
   "cell_type": "code",
   "execution_count": 7,
   "metadata": {},
   "outputs": [],
   "source": [
    "## Generate Settings \n",
    "chars =list(string.ascii_uppercase)\n",
    "chars_col = chars + [x+y for x in chars for y in chars]\n",
    "keyname = lambda x,y: {a:y[b] if (a != 'data_point_id') else 'data_point_id' for b, a in enumerate(x)}\n",
    "\n",
    "columns_length = len(list(df))\n",
    "column_names = list(df)"
   ]
  },
  {
   "cell_type": "code",
   "execution_count": 8,
   "metadata": {},
   "outputs": [],
   "source": [
    "### Generate configs\n",
    "index = chars_col[:columns_length]\n",
    "configs = keyname(index, column_names)\n",
    "\n",
    "chart_config = []\n",
    "loc_config = {}\n",
    "latlong_config = {}\n",
    "\n",
    "for key in configs:\n",
    "    if(configs[key].lower() in charts):\n",
    "        chart_config.append({'key': key, 'name': configs[key], 'value': default[configs[key].lower()]})\n",
    "    if(configs[key].lower() in locations):\n",
    "        loc_config.update({configs[key].lower(): key})\n",
    "    if(configs[key].lower() in latlong):\n",
    "        latlong_config.update({configs[key].lower(): key})\n",
    "\n",
    "\n",
    "#### Table\n",
    "table_config = []\n",
    "for tb in table:\n",
    "    column_index = \"\"\n",
    "    tb_indicators = []\n",
    "    for key in configs:\n",
    "        if tb['column'].lower() == configs[key].lower():\n",
    "            column_index = key\n",
    "        if configs[key].lower() in [x.lower() for x in tb['indicators']]:\n",
    "            tb_indicators.append(key)\n",
    "    table_config.append({\n",
    "        \"key\": column_index,\n",
    "        \"name\": tb['name'],\n",
    "        \"indicators\": tb_indicators\n",
    "    })\n",
    "\n",
    "            \n",
    "configs['charts'] = chart_config\n",
    "configs['locations'] = loc_config\n",
    "configs['latlong'] = latlong_config\n",
    "configs['table'] = table_config"
   ]
  },
  {
   "cell_type": "code",
   "execution_count": 9,
   "metadata": {},
   "outputs": [],
   "source": [
    "### Replace Dataset Columns\n",
    "df.columns = index"
   ]
  },
  {
   "cell_type": "code",
   "execution_count": 10,
   "metadata": {
    "scrolled": false
   },
   "outputs": [
    {
     "data": {
      "text/plain": [
       "{'A': 'Identifier',\n",
       " 'B': 'Woreda',\n",
       " 'C': 'Kebele',\n",
       " 'D': 'Parish',\n",
       " 'E': 'Village',\n",
       " 'F': 'Latitude',\n",
       " 'G': 'Longitude',\n",
       " 'H': 'Name of Household',\n",
       " 'I': 'What is the total number of household members, including yourself?',\n",
       " 'J': 'Water Service Level',\n",
       " 'K': 'Main source of drinking water',\n",
       " 'L': 'Main source of water for other purposes',\n",
       " 'M': 'Specific Location of Water Collection',\n",
       " 'N': 'Time to Collect Water',\n",
       " 'O': 'Times in Last Month When Drinking Water Quantity Was Insufficient',\n",
       " 'P': 'Fecal and Chemical Levels Acceptable',\n",
       " 'Q': 'Sanitation Service Level',\n",
       " 'R': 'Type of Toilet Facility',\n",
       " 'S': 'Facility is shared with others outside of the household',\n",
       " 'T': 'Location of sanitation facility',\n",
       " 'U': 'Emptying of on-site sanitation facilities',\n",
       " 'V': 'Disposal of excreta from onite sanitation facilities',\n",
       " 'W': 'Hygiene',\n",
       " 'X': 'Type of Handwashing Facility Used Most Often',\n",
       " 'Y': 'Water Available at Handwashing Facility',\n",
       " 'Z': 'Soap Available',\n",
       " 'charts': [{'key': 'J',\n",
       "   'name': 'Water Service Level',\n",
       "   'value': ['Safely Managed',\n",
       "    'Basic',\n",
       "    'Limited',\n",
       "    'Unimproved',\n",
       "    'Surface Water']},\n",
       "  {'key': 'Q',\n",
       "   'name': 'Sanitation Service Level',\n",
       "   'value': ['Safely Managed',\n",
       "    'Basic',\n",
       "    'Limited',\n",
       "    'Unimproved',\n",
       "    'Open Defecation']},\n",
       "  {'key': 'W',\n",
       "   'name': 'Hygiene',\n",
       "   'value': ['Safely Managed', 'Basic', 'Limited', 'No Facility']}],\n",
       " 'locations': {'woreda': 'B', 'kebele': 'C'},\n",
       " 'latlong': {'latitude': 'F', 'longitude': 'G'},\n",
       " 'table': [{'key': 'J',\n",
       "   'name': 'water indicators',\n",
       "   'indicators': ['K', 'L', 'M', 'N', 'O', 'P']},\n",
       "  {'key': 'Q',\n",
       "   'name': 'sanitation indicators',\n",
       "   'indicators': ['R', 'S', 'T', 'U', 'V']},\n",
       "  {'key': 'W', 'name': 'hygiene indicators', 'indicators': ['X', 'Y', 'Z']}]}"
      ]
     },
     "execution_count": 10,
     "metadata": {},
     "output_type": "execute_result"
    }
   ],
   "source": [
    "configs"
   ]
  },
  {
   "cell_type": "code",
   "execution_count": 11,
   "metadata": {},
   "outputs": [
    {
     "data": {
      "text/plain": [
       "[{'A': '7cv3-8hk1-kam0',\n",
       "  'B': 'Agago',\n",
       "  'C': 'Kotomol',\n",
       "  'D': 'Lukee',\n",
       "  'E': 'Odokomit East',\n",
       "  'F': 2.64303668,\n",
       "  'G': 33.27401517,\n",
       "  'H': 'lumumba Patrick',\n",
       "  'I': 4,\n",
       "  'J': 'Basic',\n",
       "  'K': 'Deep tubewell/borehole',\n",
       "  'L': 0,\n",
       "  'M': 'Elsewhere',\n",
       "  'N': 'Less than 30 minutes',\n",
       "  'O': 'Yes, at least once',\n",
       "  'P': 0,\n",
       "  'Q': 'Basic',\n",
       "  'R': 'Pit latrine with slab',\n",
       "  'S': 'No',\n",
       "  'T': 'In own plot/yard',\n",
       "  'U': 'No, never emptied',\n",
       "  'V': '',\n",
       "  'W': 'Basic',\n",
       "  'X': 'Fixed facility observed in plot/yard',\n",
       "  'Y': 'Water is available',\n",
       "  'Z': 'Yes, soap or detergent are present'},\n",
       " {'A': 'eh5k-ca64-3k9x',\n",
       "  'B': 'Agago',\n",
       "  'C': 'Patongo Town Council',\n",
       "  'D': 'Oporot',\n",
       "  'E': 'Oporot South',\n",
       "  'F': 2.74808792,\n",
       "  'G': 33.30608985,\n",
       "  'H': 'Komakech Henry',\n",
       "  'I': 11,\n",
       "  'J': 'Basic',\n",
       "  'K': 'Deep tubewell/borehole',\n",
       "  'L': 0,\n",
       "  'M': 'Elsewhere',\n",
       "  'N': 'Less than 30 minutes',\n",
       "  'O': 'No, always sufficient',\n",
       "  'P': 0,\n",
       "  'Q': 'Basic',\n",
       "  'R': 'Ventilated Improved Pit latrine (VIP)',\n",
       "  'S': 'No',\n",
       "  'T': 'In own plot/yard',\n",
       "  'U': 'No, never emptied',\n",
       "  'V': '',\n",
       "  'W': 'Limited',\n",
       "  'X': 'Mobile object observed (bucket, jug, kettle)',\n",
       "  'Y': 'Water is not available',\n",
       "  'Z': 'No, not present'}]"
      ]
     },
     "execution_count": 11,
     "metadata": {},
     "output_type": "execute_result"
    }
   ],
   "source": [
    "data = list(df.T.to_dict().values())\n",
    "data[:2]"
   ]
  },
  {
   "cell_type": "code",
   "execution_count": 12,
   "metadata": {},
   "outputs": [],
   "source": [
    "### to json\n",
    "df.to_json('../resources/js/data/ug_hh_data.json', orient=\"records\", indent=2)\n",
    "\n",
    "with open('../resources/js/data/ug_hh_config.json', 'w') as outfile:\n",
    "    json.dump(configs, outfile)"
   ]
  }
 ],
 "metadata": {
  "kernelspec": {
   "display_name": "Python 3",
   "language": "python",
   "name": "python3"
  },
  "language_info": {
   "codemirror_mode": {
    "name": "ipython",
    "version": 3
   },
   "file_extension": ".py",
   "mimetype": "text/x-python",
   "name": "python",
   "nbconvert_exporter": "python",
   "pygments_lexer": "ipython3",
   "version": "3.8.5"
  },
  "toc": {
   "base_numbering": 1,
   "nav_menu": {},
   "number_sections": true,
   "sideBar": true,
   "skip_h1_title": false,
   "title_cell": "Table of Contents",
   "title_sidebar": "Contents",
   "toc_cell": false,
   "toc_position": {},
   "toc_section_display": true,
   "toc_window_display": false
  }
 },
 "nbformat": 4,
 "nbformat_minor": 4
}
