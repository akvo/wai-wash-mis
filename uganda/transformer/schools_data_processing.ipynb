{
 "cells": [
  {
   "cell_type": "code",
   "execution_count": 1,
   "metadata": {},
   "outputs": [],
   "source": [
    "import pandas as pd\n",
    "import numpy as np\n",
    "import string\n",
    "import json\n",
    "import random"
   ]
  },
  {
   "cell_type": "code",
   "execution_count": 2,
   "metadata": {},
   "outputs": [],
   "source": [
    "## Static Config\n",
    "locations = [\"woreda\", \"kebele\"]\n",
    "latlong = [\"latitude\", \"longitude\"]\n",
    "charts = [\"water service level\", \"sanitation service level\", \"hygiene service level\"]\n",
    "default = {\n",
    "    \"water service level\" : [\"Advanced\", \"Basic\", \"Limited\", \"No Service\"],\n",
    "    \"sanitation service level\": [\"Advanced\", \"Basic\", \"Limited\", \"No Service\"],\n",
    "    \"hygiene service level\": [\"Advanced\", \"Basic\", \"Limited\", \"No Service\"]\n",
    "}\n",
    "\n",
    "## Table config\n",
    "table = [\n",
    "    {\n",
    "        \"name\": \"water indicators\",\n",
    "        \"column\": \"water service level\",\n",
    "        \"indicators\": [\n",
    "            \"Main Source of Drinking Water Provided by the School\",\n",
    "            \"Main Water Source is Currently Available at the School\",\n",
    "        ],\n",
    "    },\n",
    "    {\n",
    "        \"name\": \"sanitation indicators\",\n",
    "        \"column\": \"sanitation service level\",\n",
    "        \"indicators\": [\n",
    "            \"Type of Student Toilets at the School\",\n",
    "            \"Toilets are Separate for Girls and Boys\",\n",
    "        ],\n",
    "    },\n",
    "    {\n",
    "        \"name\": \"hygiene indicators\",\n",
    "        \"column\": \"hygiene service level\",\n",
    "        \"indicators\": [\n",
    "            \"Handwashing Facilities are at the School\",\n",
    "            \"Soap and water available at the handwashing facilities\",\n",
    "        ],\n",
    "    }\n",
    "]"
   ]
  },
  {
   "cell_type": "code",
   "execution_count": 3,
   "metadata": {},
   "outputs": [],
   "source": [
    "df = pd.read_csv('ug_school_data.csv')"
   ]
  },
  {
   "cell_type": "code",
   "execution_count": 4,
   "metadata": {},
   "outputs": [],
   "source": [
    "## Delete Column with no name\n",
    "df = df.loc[:, ~df.columns.str.contains('^Unnamed')]"
   ]
  },
  {
   "cell_type": "code",
   "execution_count": 5,
   "metadata": {},
   "outputs": [],
   "source": [
    "## Fill Column\n",
    "#default_column = [\"Identifier\", \"Woreda\", \"Kebele\", \"School Name\", \"Lat\", \"Lot\", \"Latitude\", \"Longitude\", \"School Type\", \"Male Pupils\", \"Female Pupils\"]\n",
    "#for column in df.columns:\n",
    "#    if column not in default_column and column != \"Number of Student Toilets Currently Usable\":\n",
    "#        df[column] = df[column].apply(lambda x: random.choice(df[column].dropna().unique()))"
   ]
  },
  {
   "cell_type": "code",
   "execution_count": 6,
   "metadata": {},
   "outputs": [],
   "source": [
    "## Fill Number of Student Toilets Currently Usable\n",
    "def fillToiletUsed(x):\n",
    "    total = x[\"Male Pupils\"] + x[\"Female Pupils\"]\n",
    "    return int(random.randint(0,total))\n",
    "\n",
    "df[\"Male Pupils\"] = 0\n",
    "df[\"Female Pupils\"] = 0\n",
    "df[\"Number of Student Toilets Currently Usable\"] = df.apply(fillToiletUsed, axis=1)"
   ]
  },
  {
   "cell_type": "code",
   "execution_count": 7,
   "metadata": {},
   "outputs": [],
   "source": [
    "### Fill Empty Integer Values\n",
    "numerics = ['int16', 'int32', 'int64', 'float16', 'float32', 'float64']\n",
    "df_num = df.select_dtypes(include=numerics).drop(columns=['Latitude', 'Longitude'])\n",
    "df_num = df_num.fillna(0.0).astype(np.int32)\n",
    "df[list(df_num)] = df_num"
   ]
  },
  {
   "cell_type": "code",
   "execution_count": 8,
   "metadata": {},
   "outputs": [],
   "source": [
    "### Replace Empty String Values\n",
    "df_str = df.select_dtypes(include=['object']).fillna(\"\")\n",
    "df[list(df_str)] = df_str"
   ]
  },
  {
   "cell_type": "code",
   "execution_count": 9,
   "metadata": {},
   "outputs": [],
   "source": [
    "## Generate Settings \n",
    "chars =list(string.ascii_uppercase)\n",
    "chars_col = chars + [x+y for x in chars for y in chars]\n",
    "keyname = lambda x,y: {a:y[b] if (a != 'data_point_id') else 'data_point_id' for b, a in enumerate(x)}\n",
    "\n",
    "columns_length = len(list(df))\n",
    "column_names = list(df)"
   ]
  },
  {
   "cell_type": "code",
   "execution_count": 10,
   "metadata": {},
   "outputs": [],
   "source": [
    "### Generate configs\n",
    "index = chars_col[:columns_length]\n",
    "configs = keyname(index, column_names)\n",
    "\n",
    "chart_config = []\n",
    "loc_config = {}\n",
    "latlong_config = {}\n",
    "for key in configs:\n",
    "    if(configs[key].lower() in charts):\n",
    "        chart_config.append({'key': key, 'name': configs[key], 'value': default[configs[key].lower()]})\n",
    "    if(configs[key].lower() in locations):\n",
    "        loc_config.update({configs[key].lower(): key})\n",
    "    if(configs[key].lower() in latlong):\n",
    "        latlong_config.update({configs[key].lower(): key})\n",
    "        \n",
    "#### Table\n",
    "table_config = []\n",
    "for tb in table:\n",
    "    column_index = \"\"\n",
    "    tb_indicators = []\n",
    "    for key in configs:\n",
    "        if tb['column'].lower() == configs[key].lower():\n",
    "            column_index = key\n",
    "        if configs[key].lower() in [x.lower() for x in tb['indicators']]:\n",
    "            tb_indicators.append(key)\n",
    "    table_config.append({\n",
    "        \"key\": column_index,\n",
    "        \"name\": tb['name'],\n",
    "        \"indicators\": tb_indicators\n",
    "    })\n",
    "\n",
    "            \n",
    "configs['charts'] = chart_config\n",
    "configs['locations'] = loc_config\n",
    "configs['latlong'] = latlong_config\n",
    "configs['table'] = table_config"
   ]
  },
  {
   "cell_type": "code",
   "execution_count": 11,
   "metadata": {},
   "outputs": [],
   "source": [
    "### Replace Dataset Columns\n",
    "df.columns = index"
   ]
  },
  {
   "cell_type": "code",
   "execution_count": 12,
   "metadata": {
    "scrolled": false
   },
   "outputs": [
    {
     "data": {
      "text/plain": [
       "{'A': 'Identifier',\n",
       " 'B': 'Woreda',\n",
       " 'C': 'Kebele',\n",
       " 'D': 'Parish',\n",
       " 'E': 'School Name',\n",
       " 'F': 'Latitude',\n",
       " 'G': 'Longitude',\n",
       " 'H': 'School Type',\n",
       " 'I': 'Total number of Boys enrolled in the school',\n",
       " 'J': 'Total number of Girls enrolled in the school',\n",
       " 'K': 'What is the total enrolment in the school?',\n",
       " 'L': 'What is the regular number of staff in the school?',\n",
       " 'M': 'Drinking Water',\n",
       " 'N': 'Is there an improved water source that serves the school?',\n",
       " 'O': 'What is the type of improved water source?',\n",
       " 'P': 'What year was the water facility constructed?',\n",
       " 'Q': 'Who funded the construction of the water point?',\n",
       " 'R': 'Sanitation',\n",
       " 'S': 'Does the school have any sanitation facilities?',\n",
       " 'T': 'What type of sanitation facilities are present?',\n",
       " 'U': 'In total, how many functioning stances are for females?',\n",
       " 'V': 'IN total, how many functioning stances are for Males?',\n",
       " 'W': 'Is there a sanitation facility accessible to students with disabilities?',\n",
       " 'X': 'In what year was the latest (MOST RECENT) sanitation facility constructed?',\n",
       " 'Y': 'Condition of the superstructure, roof, walls, and doors',\n",
       " 'Z': 'Condition are the floor/slabs/platform',\n",
       " 'AA': 'Latrines/cesspits last emptied?',\n",
       " 'AB': 'Who paid for the emptying service?',\n",
       " 'AC': 'Hygiene',\n",
       " 'AD': 'Is there a place for handwashing?',\n",
       " 'AE': 'Is there water available at the handwashing station?',\n",
       " 'AF': 'Is there soap at hand washing station?',\n",
       " 'AG': 'Are there any abandoned or not in use sanitation facilities on the plot that pose a risk or threat to the safety of children?',\n",
       " 'AH': 'Do community members not attending the school ever come to use the sanitation facilities?',\n",
       " 'AI': 'Male Pupils',\n",
       " 'AJ': 'Female Pupils',\n",
       " 'AK': 'Number of Student Toilets Currently Usable',\n",
       " 'charts': [],\n",
       " 'locations': {'woreda': 'B', 'kebele': 'C'},\n",
       " 'latlong': {'latitude': 'F', 'longitude': 'G'},\n",
       " 'table': [{'key': '', 'name': 'water indicators', 'indicators': []},\n",
       "  {'key': '', 'name': 'sanitation indicators', 'indicators': []},\n",
       "  {'key': '', 'name': 'hygiene indicators', 'indicators': []}]}"
      ]
     },
     "execution_count": 12,
     "metadata": {},
     "output_type": "execute_result"
    }
   ],
   "source": [
    "configs"
   ]
  },
  {
   "cell_type": "code",
   "execution_count": 13,
   "metadata": {},
   "outputs": [
    {
     "data": {
      "text/plain": [
       "[{'A': 's5cy-yfp7-b2js',\n",
       "  'B': 0,\n",
       "  'C': 0,\n",
       "  'D': 0,\n",
       "  'E': 'Abone primary school',\n",
       "  'F': nan,\n",
       "  'G': nan,\n",
       "  'H': 0,\n",
       "  'I': 300,\n",
       "  'J': 200,\n",
       "  'K': 500,\n",
       "  'L': 15,\n",
       "  'M': 'Basic',\n",
       "  'N': 'Yes-school has its own improved water sources',\n",
       "  'O': 'Deep Borehole',\n",
       "  'P': 2010,\n",
       "  'Q': 'Government',\n",
       "  'R': 'Basic',\n",
       "  'S': 'Yes',\n",
       "  'T': 'VIP latrine',\n",
       "  'U': 2,\n",
       "  'V': 2,\n",
       "  'W': 'Yes',\n",
       "  'X': 2016,\n",
       "  'Y': 'Good and well-raised wall with roof and door',\n",
       "  'Z': 'Medium - some minor cracks',\n",
       "  'AA': 'Never emptied',\n",
       "  'AB': '',\n",
       "  'AC': 'Basic',\n",
       "  'AD': 'Yes',\n",
       "  'AE': 'Yes',\n",
       "  'AF': 'Yes',\n",
       "  'AG': 'YES- collapsed or partially collapsed latrines',\n",
       "  'AH': 'Rarely',\n",
       "  'AI': 0,\n",
       "  'AJ': 0,\n",
       "  'AK': 0},\n",
       " {'A': 'av7y-npt6-59t8',\n",
       "  'B': 0,\n",
       "  'C': 0,\n",
       "  'D': 0,\n",
       "  'E': 'odokomit primary school',\n",
       "  'F': nan,\n",
       "  'G': nan,\n",
       "  'H': 0,\n",
       "  'I': 509,\n",
       "  'J': 470,\n",
       "  'K': 979,\n",
       "  'L': 110,\n",
       "  'M': 'Limited',\n",
       "  'N': 'Yes-school shares with a community improved water source',\n",
       "  'O': 'Deep Borehole',\n",
       "  'P': 0,\n",
       "  'Q': '',\n",
       "  'R': 'Basic',\n",
       "  'S': 'Yes',\n",
       "  'T': 'VIP latrine',\n",
       "  'U': 5,\n",
       "  'V': 5,\n",
       "  'W': 'Yes',\n",
       "  'X': 2003,\n",
       "  'Y': 'Medium - walls are decent, semi permanent door and roof',\n",
       "  'Z': 'Medium - some minor cracks',\n",
       "  'AA': 'Unknown',\n",
       "  'AB': '',\n",
       "  'AC': 'Basic',\n",
       "  'AD': 'Yes',\n",
       "  'AE': 'Yes',\n",
       "  'AF': 'Yes',\n",
       "  'AG': 'NONE- no observable risk from out-of-service facilities',\n",
       "  'AH': 'Never',\n",
       "  'AI': 0,\n",
       "  'AJ': 0,\n",
       "  'AK': 0}]"
      ]
     },
     "execution_count": 13,
     "metadata": {},
     "output_type": "execute_result"
    }
   ],
   "source": [
    "data = list(df.T.to_dict().values())\n",
    "data[:2]"
   ]
  },
  {
   "cell_type": "code",
   "execution_count": 14,
   "metadata": {},
   "outputs": [],
   "source": [
    "### to json\n",
    "df.to_json('../resources/js/data/ug_school_data.json', orient=\"records\", indent=2)\n",
    "\n",
    "with open('../resources/js/data/ug_school_config.json', 'w') as outfile:\n",
    "    json.dump(configs, outfile)"
   ]
  }
 ],
 "metadata": {
  "kernelspec": {
   "display_name": "Python 3",
   "language": "python",
   "name": "python3"
  },
  "language_info": {
   "codemirror_mode": {
    "name": "ipython",
    "version": 3
   },
   "file_extension": ".py",
   "mimetype": "text/x-python",
   "name": "python",
   "nbconvert_exporter": "python",
   "pygments_lexer": "ipython3",
   "version": "3.8.5"
  },
  "toc": {
   "base_numbering": 1,
   "nav_menu": {},
   "number_sections": true,
   "sideBar": true,
   "skip_h1_title": false,
   "title_cell": "Table of Contents",
   "title_sidebar": "Contents",
   "toc_cell": false,
   "toc_position": {},
   "toc_section_display": true,
   "toc_window_display": false
  }
 },
 "nbformat": 4,
 "nbformat_minor": 4
}
