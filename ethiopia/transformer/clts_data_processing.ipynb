{
 "cells": [
  {
   "cell_type": "code",
   "execution_count": 1,
   "metadata": {
    "ExecuteTime": {
     "end_time": "2021-08-25T16:57:17.690564Z",
     "start_time": "2021-08-25T16:57:17.330686Z"
    }
   },
   "outputs": [],
   "source": [
    "import pandas as pd\n",
    "import numpy as np\n",
    "import string\n",
    "import json\n",
    "import uuid"
   ]
  },
  {
   "cell_type": "code",
   "execution_count": 2,
   "metadata": {
    "ExecuteTime": {
     "end_time": "2021-08-25T16:57:17.700168Z",
     "start_time": "2021-08-25T16:57:17.694653Z"
    }
   },
   "outputs": [],
   "source": [
    "## Static Config\n",
    "primary_key = \"Identifier\"\n",
    "locations = [\n",
    "    {\n",
    "        \"column\": \"Woreda\",\n",
    "        \"name\": \"level1\"\n",
    "    },\n",
    "    {\n",
    "        \"column\": \"Kebele\",\n",
    "        \"name\": \"level2\"\n",
    "    }\n",
    "]\n",
    "\n",
    "\n",
    "latlong = []\n",
    "charts = [\"odf status\"]\n",
    "default = {\n",
    "    \"odf status\" : [\"Triggered\", \"verified\",\"declared\"]\n",
    "}\n",
    "'''\n",
    "charts = [\"odf status\", \"initial number latrines\", \"final number of latrines\"]\n",
    "default = {\n",
    "    \"odf status\" : [\"Triggered\", \"declared\", \"verified\"],\n",
    "    \"initial number latrines\" : [\"initial number latrines\"],\n",
    "    \"final number of latrines\" : [\"final number of latrines\"],\n",
    "}\n",
    "'''\n",
    "\n",
    "## Table config\n",
    "table = []\n",
    "\n",
    "# Main config\n",
    "main = {\n",
    "    'name':'Woreda, Kebele',\n",
    "    'column': 'Woreda',\n",
    "    'indicators': [{\n",
    "        'name':'ID',\n",
    "        'column': 'Identifier'\n",
    "    },{\n",
    "        'name': 'Kebele',\n",
    "        'column': 'Kebele'\n",
    "    },{\n",
    "        'name':'ODF Status',\n",
    "        'column': 'ODF Status'\n",
    "    },{\n",
    "        'name':'Date Triggered',\n",
    "        'column': 'Date Triggered'\n",
    "    },{\n",
    "        'name':'Date of Verification',\n",
    "        'column': 'Date of Verification'\n",
    "    },{\n",
    "        'name':'Progress Time (Days)',\n",
    "        'column': 'Progress Time'\n",
    "    },{\n",
    "        'name':'Time to Complete (Days)',\n",
    "        'column': 'Time Delta'\n",
    "    },{\n",
    "        'name':'Implementing Partner',\n",
    "        'column': 'Implementing Partner'\n",
    "    },{\n",
    "        'name':'Remarks',\n",
    "        'column': 'Remarks'\n",
    "    }]\n",
    "}"
   ]
  },
  {
   "cell_type": "code",
   "execution_count": 3,
   "metadata": {
    "ExecuteTime": {
     "end_time": "2021-08-25T16:57:17.720834Z",
     "start_time": "2021-08-25T16:57:17.706859Z"
    }
   },
   "outputs": [],
   "source": [
    "df = pd.read_csv('eth_clts_data.csv', error_bad_lines=False)\n",
    "if 'Identifier' not in list(df):\n",
    "    df['Identifier'] = [str(uuid.uuid4()) for _ in range(len(df.index))]\n",
    "    df = df[['Identifier'] + list(df)[0:-1]]"
   ]
  },
  {
   "cell_type": "code",
   "execution_count": 4,
   "metadata": {
    "ExecuteTime": {
     "end_time": "2021-08-25T16:57:17.786889Z",
     "start_time": "2021-08-25T16:57:17.726254Z"
    }
   },
   "outputs": [],
   "source": [
    "## Delete Column with no name\n",
    "df = df.loc[:, ~df.columns.str.contains('^Unnamed')]"
   ]
  },
  {
   "cell_type": "code",
   "execution_count": 5,
   "metadata": {
    "ExecuteTime": {
     "end_time": "2021-08-25T16:57:17.817142Z",
     "start_time": "2021-08-25T16:57:17.805302Z"
    }
   },
   "outputs": [],
   "source": [
    "### Replace Empty String Values\n",
    "df_str = df.select_dtypes(include=['object']).fillna(\"\")\n",
    "df[list(df_str)] = df_str"
   ]
  },
  {
   "cell_type": "code",
   "execution_count": 6,
   "metadata": {},
   "outputs": [],
   "source": [
    "## Time Delta\n",
    "def fillTimeDelta(x):\n",
    "    date_b = pd.to_datetime(x['Date of Verification'])\n",
    "    if x['Date of Verification'] == '' and x['ODF Status'] == 'Triggered':\n",
    "        date_b = pd.to_datetime(\"today\")\n",
    "    return (date_b - pd.to_datetime(x['Date Triggered'])).days\n",
    "\n",
    "df['Time Delta'] = df.apply(fillTimeDelta, axis=1)\n",
    "df['Progress Time'] = df.apply(fillTimeDelta, axis=1)"
   ]
  },
  {
   "cell_type": "code",
   "execution_count": 7,
   "metadata": {
    "ExecuteTime": {
     "end_time": "2021-08-25T16:57:17.824680Z",
     "start_time": "2021-08-25T16:57:17.819587Z"
    }
   },
   "outputs": [],
   "source": [
    "## Generate Settings \n",
    "chars =list(string.ascii_uppercase)\n",
    "chars_col = chars + [x+y for x in chars for y in chars]\n",
    "keyname = lambda x,y: {a:y[b] if (a != 'data_point_id') else 'data_point_id' for b, a in enumerate(x)}\n",
    "\n",
    "columns_length = len(list(df))\n",
    "column_names = list(df)"
   ]
  },
  {
   "cell_type": "code",
   "execution_count": 8,
   "metadata": {
    "ExecuteTime": {
     "end_time": "2021-08-25T16:57:17.834880Z",
     "start_time": "2021-08-25T16:57:17.828214Z"
    }
   },
   "outputs": [],
   "source": [
    "### Generate configs\n",
    "index = chars_col[:columns_length]\n",
    "configs = keyname(index, column_names)\n",
    "\n",
    "primary_key_config = \"\"\n",
    "chart_config = []\n",
    "latlong_config = {}\n",
    "\n",
    "for key in configs:\n",
    "    if(configs[key].lower() == primary_key.lower()):\n",
    "        primary_key_config = key\n",
    "    if(configs[key].lower() in charts):\n",
    "        chart_config.append({'key': key, 'name': configs[key], 'value': default[configs[key].lower()]})\n",
    "    if(configs[key].lower() in latlong):\n",
    "        latlong_config.update({configs[key].lower(): key})\n",
    "\n",
    "### Locations\n",
    "loc_config = {}\n",
    "for loc in locations:\n",
    "    column_index = \"\"\n",
    "    for key in configs:\n",
    "        if loc['column'].lower() == configs[key].lower():\n",
    "            column_index = key\n",
    "    loc_config.update({loc['name'].lower(): column_index})\n",
    "\n",
    "#### Table\n",
    "table_config = []\n",
    "for tb in table:\n",
    "    column_index = \"\"\n",
    "    tb_indicators = []\n",
    "    for key in configs:\n",
    "        if tb['column'].lower() == configs[key].lower():\n",
    "            column_index = key\n",
    "        if configs[key].lower() in [x.lower() for x in tb['indicators']]:\n",
    "            tb_indicators.append(key)\n",
    "    table_config.append({\n",
    "        \"key\": column_index,\n",
    "        \"name\": tb['name'],\n",
    "        \"indicators\": tb_indicators\n",
    "    })\n",
    "\n",
    "## Main Table\n",
    "main_config = {'name':main['name']}\n",
    "main_selector = {}\n",
    "indicators = []\n",
    "for key in configs:\n",
    "    if configs[key] == main['column']:\n",
    "        main_config.update({'key':key})\n",
    "    for i in main['indicators']:\n",
    "        if configs[key] == i['column']:\n",
    "            indicators.append({'name':i['name'],'key':key})\n",
    "main_config.update({'indicators':indicators})\n",
    "\n",
    "configs['primary_key'] = primary_key_config\n",
    "configs['charts'] = chart_config\n",
    "configs['locations'] = loc_config\n",
    "configs['latlong'] = latlong_config\n",
    "configs['table'] = table_config\n",
    "configs['main'] = main_config"
   ]
  },
  {
   "cell_type": "code",
   "execution_count": 9,
   "metadata": {
    "ExecuteTime": {
     "end_time": "2021-08-25T16:57:17.840487Z",
     "start_time": "2021-08-25T16:57:17.837444Z"
    }
   },
   "outputs": [],
   "source": [
    "### Replace Dataset Columns\n",
    "df.columns = index"
   ]
  },
  {
   "cell_type": "code",
   "execution_count": 10,
   "metadata": {
    "ExecuteTime": {
     "end_time": "2021-08-25T16:57:17.852245Z",
     "start_time": "2021-08-25T16:57:17.842536Z"
    },
    "scrolled": false
   },
   "outputs": [
    {
     "data": {
      "text/plain": [
       "{'A': 'Identifier',\n",
       " 'B': 'Woreda',\n",
       " 'C': 'Kebele',\n",
       " 'D': 'Village',\n",
       " 'E': 'Latitude',\n",
       " 'F': 'Longitude',\n",
       " 'G': 'No. of HHs',\n",
       " 'H': 'Initial Number Latrines',\n",
       " 'I': 'Final Number of Latrines',\n",
       " 'J': 'Date Triggered',\n",
       " 'K': 'ODF Status',\n",
       " 'L': 'Date of Verification',\n",
       " 'M': 'Implementing Partner',\n",
       " 'N': 'Remarks',\n",
       " 'O': 'Time to Complete',\n",
       " 'P': 'Progress Time',\n",
       " 'Q': 'Time Delta',\n",
       " 'primary_key': 'A',\n",
       " 'charts': [{'key': 'K',\n",
       "   'name': 'ODF Status',\n",
       "   'value': ['Triggered', 'verified', 'declared']}],\n",
       " 'locations': {'level1': 'B', 'level2': 'C'},\n",
       " 'latlong': {},\n",
       " 'table': [],\n",
       " 'main': {'name': 'Woreda, Kebele',\n",
       "  'key': 'B',\n",
       "  'indicators': [{'name': 'ID', 'key': 'A'},\n",
       "   {'name': 'Kebele', 'key': 'C'},\n",
       "   {'name': 'Date Triggered', 'key': 'J'},\n",
       "   {'name': 'ODF Status', 'key': 'K'},\n",
       "   {'name': 'Date of Verification', 'key': 'L'},\n",
       "   {'name': 'Implementing Partner', 'key': 'M'},\n",
       "   {'name': 'Remarks', 'key': 'N'},\n",
       "   {'name': 'Progress Time (Days)', 'key': 'P'},\n",
       "   {'name': 'Time to Complete (Days)', 'key': 'Q'}]}}"
      ]
     },
     "execution_count": 10,
     "metadata": {},
     "output_type": "execute_result"
    }
   ],
   "source": [
    "configs"
   ]
  },
  {
   "cell_type": "code",
   "execution_count": 11,
   "metadata": {
    "ExecuteTime": {
     "end_time": "2021-08-25T16:57:17.907493Z",
     "start_time": "2021-08-25T16:57:17.854422Z"
    }
   },
   "outputs": [
    {
     "data": {
      "text/plain": [
       "[{'A': 'adf035a2-a621-4b3c-9948-11f0e053b229',\n",
       "  'B': 'Arsi Negele',\n",
       "  'C': 'Ali Wayo',\n",
       "  'D': 'Zone 1',\n",
       "  'E': nan,\n",
       "  'F': nan,\n",
       "  'G': 400,\n",
       "  'H': 188,\n",
       "  'I': nan,\n",
       "  'J': '22/03/2021',\n",
       "  'K': 'Triggered',\n",
       "  'L': '',\n",
       "  'M': \"Amref & local GoV't\",\n",
       "  'N': 'Phase II',\n",
       "  'O': nan,\n",
       "  'P': 161,\n",
       "  'Q': 161},\n",
       " {'A': '0ca64527-4fc1-459d-bd66-9ec2affb35de',\n",
       "  'B': 'Arsi Negele',\n",
       "  'C': 'Ali Wayo',\n",
       "  'D': 'Zone 2',\n",
       "  'E': nan,\n",
       "  'F': nan,\n",
       "  'G': 405,\n",
       "  'H': 190,\n",
       "  'I': nan,\n",
       "  'J': '22/03/2021',\n",
       "  'K': 'Triggered',\n",
       "  'L': '',\n",
       "  'M': \"Amref & local GoV't\",\n",
       "  'N': 'Phase II',\n",
       "  'O': nan,\n",
       "  'P': 161,\n",
       "  'Q': 161}]"
      ]
     },
     "execution_count": 11,
     "metadata": {},
     "output_type": "execute_result"
    }
   ],
   "source": [
    "data = list(df.T.to_dict().values())\n",
    "data[:2]"
   ]
  },
  {
   "cell_type": "code",
   "execution_count": 12,
   "metadata": {
    "ExecuteTime": {
     "end_time": "2021-08-25T16:57:17.917316Z",
     "start_time": "2021-08-25T16:57:17.909451Z"
    }
   },
   "outputs": [],
   "source": [
    "### to json\n",
    "df.to_json('../resources/js/data/eth_clts_data.json', orient=\"records\", indent=2)\n",
    "\n",
    "with open('../resources/js/data/eth_clts_config.json', 'w') as outfile:\n",
    "    json.dump(configs, outfile)"
   ]
  }
 ],
 "metadata": {
  "kernelspec": {
   "display_name": "Python 3",
   "language": "python",
   "name": "python3"
  },
  "language_info": {
   "codemirror_mode": {
    "name": "ipython",
    "version": 3
   },
   "file_extension": ".py",
   "mimetype": "text/x-python",
   "name": "python",
   "nbconvert_exporter": "python",
   "pygments_lexer": "ipython3",
   "version": "3.8.8"
  },
  "toc": {
   "base_numbering": 1,
   "nav_menu": {},
   "number_sections": true,
   "sideBar": true,
   "skip_h1_title": false,
   "title_cell": "Table of Contents",
   "title_sidebar": "Contents",
   "toc_cell": false,
   "toc_position": {},
   "toc_section_display": true,
   "toc_window_display": false
  }
 },
 "nbformat": 4,
 "nbformat_minor": 4
}
