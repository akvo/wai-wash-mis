{
 "cells": [
  {
   "cell_type": "code",
   "execution_count": 1,
   "metadata": {
    "ExecuteTime": {
     "end_time": "2021-08-25T10:21:57.050407Z",
     "start_time": "2021-08-25T10:21:56.469435Z"
    }
   },
   "outputs": [],
   "source": [
    "import pandas as pd\n",
    "import numpy as np\n",
    "import string\n",
    "import json\n",
    "import random\n",
    "import uuid"
   ]
  },
  {
   "cell_type": "code",
   "execution_count": 2,
   "metadata": {
    "ExecuteTime": {
     "end_time": "2021-08-25T10:21:57.061248Z",
     "start_time": "2021-08-25T10:21:57.055946Z"
    }
   },
   "outputs": [],
   "source": [
    "## Static Config\n",
    "locations = [\n",
    "    {\n",
    "        \"column\": \"Woreda\",\n",
    "        \"name\": \"level1\"\n",
    "    },\n",
    "    {\n",
    "        \"column\": \"Kebele\",\n",
    "        \"name\": \"level2\"\n",
    "    }\n",
    "]\n",
    "\n",
    "latlong = [\"latitude\", \"longitude\"]\n",
    "charts = [\"water\", \"sanitation\"]\n",
    "default = {\n",
    "    \"water\" : [\"Advanced\", \"Basic\", \"Limited\", \"No Service\"],\n",
    "    \"sanitation\": [\"Advanced\", \"Basic\", \"Limited\", \"No Service\"]\n",
    "}\n",
    "\n",
    "## Table config\n",
    "\n",
    "table = [\n",
    "    {\n",
    "        \"name\": \"water indicators\",\n",
    "        \"column\": \"drinking water\",\n",
    "        \"indicators\": [\n",
    "            \"Is there an improved water source that serves the school?\",\n",
    "            \"What is the type of improved water source?\",\n",
    "        ],\n",
    "    },\n",
    "    {\n",
    "        \"name\": \"sanitation indicators\",\n",
    "        \"column\": \"sanitation\",\n",
    "        \"indicators\": [\n",
    "            \"Does the school have any sanitation facilities?\",\n",
    "            \"What type of sanitation facilities are present?\",\n",
    "            \"Is there a sanitation facility accessible to students with disabilities?\",\n",
    "            \"Condition of the superstructure, roof, walls, and doors\",\n",
    "            \"Condition are the floor/slabs/platform\"\n",
    "        ],\n",
    "    },\n",
    "    {\n",
    "        \"name\": \"hygiene indicators\",\n",
    "        \"column\": \"hygiene\",\n",
    "        \"indicators\": [\n",
    "            \"Is there a place for handwashing?\",\n",
    "            \"Is there water available at the handwashing station?\",\n",
    "            \"Is there soap at hand washing station?\"\n",
    "        ],\n",
    "    }\n",
    "]\n",
    "\n",
    "## Marker Detail\n",
    "marker = {\n",
    "    \"name\" : \"School Name\",\n",
    "    \"color\": [],\n",
    "    \"detail\": []\n",
    "}\n",
    "\n",
    "main = {\n",
    "    'name':'School Name',\n",
    "    'column': 'School Name',\n",
    "    'indicators': [{\n",
    "        'name': 'Water',\n",
    "        'column': 'Water'\n",
    "    },{\n",
    "        'name': 'Sanitation',\n",
    "        'column': 'Sanitation'\n",
    "    },{\n",
    "        'name': 'Hygiene',\n",
    "        'column': 'Hygiene'\n",
    "    }]\n",
    "}"
   ]
  },
  {
   "cell_type": "code",
   "execution_count": 3,
   "metadata": {
    "ExecuteTime": {
     "end_time": "2021-08-25T10:21:57.080336Z",
     "start_time": "2021-08-25T10:21:57.066155Z"
    }
   },
   "outputs": [],
   "source": [
    "df = pd.read_csv('eth_school_data.csv')\n",
    "if 'Identifier' not in list(df):\n",
    "    df['Identifier'] = [str(uuid.uuid4()) for _ in range(len(df.index))]\n",
    "    df = df[['Identifier'] + list(df)[0:-1]]"
   ]
  },
  {
   "cell_type": "code",
   "execution_count": 4,
   "metadata": {
    "ExecuteTime": {
     "end_time": "2021-08-25T10:21:57.093644Z",
     "start_time": "2021-08-25T10:21:57.084051Z"
    }
   },
   "outputs": [],
   "source": [
    "## Delete Column with no name\n",
    "df = df.loc[:, ~df.columns.str.contains('^Unnamed')]"
   ]
  },
  {
   "cell_type": "code",
   "execution_count": 5,
   "metadata": {
    "ExecuteTime": {
     "end_time": "2021-08-25T10:21:57.103448Z",
     "start_time": "2021-08-25T10:21:57.095949Z"
    }
   },
   "outputs": [],
   "source": [
    "## Fill Column\n",
    "#default_column = [\"Identifier\", \"Woreda\", \"Kebele\", \"School Name\", \"Lat\", \"Lot\", \"Latitude\", \"Longitude\", \"School Type\", \"Male Pupils\", \"Female Pupils\"]\n",
    "#for column in df.columns:\n",
    "#    if column not in default_column and column != \"Number of Student Toilets Currently Usable\":\n",
    "#        df[column] = df[column].apply(lambda x: random.choice(df[column].dropna().unique()))"
   ]
  },
  {
   "cell_type": "code",
   "execution_count": 6,
   "metadata": {
    "ExecuteTime": {
     "end_time": "2021-08-25T10:21:57.122875Z",
     "start_time": "2021-08-25T10:21:57.109100Z"
    }
   },
   "outputs": [],
   "source": [
    "## Fill Number of Student Toilets Currently Usable\n",
    "def fillToiletUsed(x):\n",
    "    total = x[\"Number of Boy Pupils\"] + x[\"Number of Girl Pupils\"]\n",
    "    return int(random.randint(0,total))\n",
    "\n",
    "df[\"Number of Boy Pupils\"] = 0\n",
    "df[\"Number of Girl Pupils\"] = 0\n",
    "df[\"Number of Student Toilets Currently Usable\"] = df.apply(fillToiletUsed, axis=1)"
   ]
  },
  {
   "cell_type": "code",
   "execution_count": 7,
   "metadata": {
    "ExecuteTime": {
     "end_time": "2021-08-25T10:21:57.135938Z",
     "start_time": "2021-08-25T10:21:57.125552Z"
    }
   },
   "outputs": [],
   "source": [
    "### Fill Empty Integer Values\n",
    "numerics = ['int16', 'int32', 'int64', 'float16', 'float32', 'float64']\n",
    "df_num = df.select_dtypes(include=numerics).drop(columns=['Latitude', 'Longitude'])\n",
    "df_num = df_num.fillna(0.0).astype(np.int32)\n",
    "df[list(df_num)] = df_num"
   ]
  },
  {
   "cell_type": "code",
   "execution_count": 8,
   "metadata": {
    "ExecuteTime": {
     "end_time": "2021-08-25T10:21:57.161074Z",
     "start_time": "2021-08-25T10:21:57.140979Z"
    }
   },
   "outputs": [],
   "source": [
    "### Replace Empty String Values\n",
    "df_str = df.select_dtypes(include=['object']).fillna(\"\")\n",
    "for strcol in list(df_str):\n",
    "    df_str[strcol] = df_str[strcol].str.strip()\n",
    "df[list(df_str)] = df_str"
   ]
  },
  {
   "cell_type": "code",
   "execution_count": 9,
   "metadata": {
    "ExecuteTime": {
     "end_time": "2021-08-25T10:21:57.170439Z",
     "start_time": "2021-08-25T10:21:57.164148Z"
    }
   },
   "outputs": [],
   "source": [
    "## Generate Settings \n",
    "chars =list(string.ascii_uppercase)\n",
    "chars_col = chars + [x+y for x in chars for y in chars]\n",
    "keyname = lambda x,y: {a:y[b] if (a != 'data_point_id') else 'data_point_id' for b, a in enumerate(x)}\n",
    "\n",
    "columns_length = len(list(df))\n",
    "column_names = list(df)"
   ]
  },
  {
   "cell_type": "code",
   "execution_count": 10,
   "metadata": {
    "ExecuteTime": {
     "end_time": "2021-08-25T10:21:57.188632Z",
     "start_time": "2021-08-25T10:21:57.174351Z"
    }
   },
   "outputs": [],
   "source": [
    "### Generate configs\n",
    "index = chars_col[:columns_length]\n",
    "configs = keyname(index, column_names)\n",
    "\n",
    "marker_config = {}\n",
    "chart_config = []\n",
    "latlong_config = {}\n",
    "for key in configs:\n",
    "    if(configs[key].lower() in charts):\n",
    "        chart_config.append({'key': key, 'name': configs[key], 'value': default[configs[key].lower()]})\n",
    "    if(configs[key].lower() in latlong):\n",
    "        latlong_config.update({configs[key].lower(): key})\n",
    "    if(configs[key].lower() == marker['name'].lower()):\n",
    "        marker_config = { \"name\" : key}\n",
    "\n",
    "### Locations\n",
    "loc_config = {}\n",
    "for loc in locations:\n",
    "    column_index = \"\"\n",
    "    for key in configs:\n",
    "        if loc['column'].lower() == configs[key].lower():\n",
    "            column_index = key\n",
    "    loc_config.update({loc['name'].lower(): column_index})\n",
    "\n",
    "\n",
    "#### Table\n",
    "table_config = []\n",
    "for tb in table:\n",
    "    column_index = \"\"\n",
    "    tb_indicators = []\n",
    "    for key in configs:\n",
    "        if tb['column'].lower() == configs[key].lower():\n",
    "            column_index = key\n",
    "        if configs[key].lower() in [x.lower() for x in tb['indicators']]:\n",
    "            tb_indicators.append(key)\n",
    "    table_config.append({\n",
    "        \"key\": column_index,\n",
    "        \"name\": tb['name'],\n",
    "        \"indicators\": tb_indicators\n",
    "    })\n",
    "\n",
    "#### Marker\n",
    "marker_color = [];\n",
    "for mk in marker['color']:\n",
    "    column = None\n",
    "    andColumn = None\n",
    "    for key in configs:\n",
    "        if configs[key].lower() == mk['column'].lower():\n",
    "            column = key\n",
    "        if mk['and'] != None and configs[key].lower() == mk['and'].lower():\n",
    "            andColumn = key\n",
    "    marker_color.append({\n",
    "        \"name\": mk['name'],\n",
    "        \"column\": column,\n",
    "        \"action\": mk['action'],\n",
    "        \"type\": mk['type'],\n",
    "        \"value\": mk['value'],\n",
    "        \"and\": andColumn,\n",
    "        \"and_value\": mk['and_value'],\n",
    "        \"color\": mk['color']\n",
    "    })\n",
    "marker_config['color'] = marker_color\n",
    "\n",
    "#### Marker Detail\n",
    "marker_detail = [];\n",
    "for mk in marker['detail']:\n",
    "    column = None\n",
    "    andColumn = None\n",
    "    for key in configs:\n",
    "        if configs[key].lower() == mk['column'].lower():\n",
    "            column = key\n",
    "        if mk['and'] != None and configs[key].lower() == mk['and'].lower():\n",
    "            andColumn = key\n",
    "    marker_detail.append({\n",
    "        \"name\": mk['name'],\n",
    "        \"column\": column,\n",
    "        \"action\": mk['action'],\n",
    "        \"type\": mk['type'],\n",
    "        \"value\": mk['value'],\n",
    "        \"and\": andColumn,\n",
    "        \"and_value\": mk['and_value']\n",
    "    })\n",
    "marker_config['detail'] = marker_detail\n",
    "    \n",
    "## Main Table\n",
    "main_config = {'name':main['name']}\n",
    "indicators = []\n",
    "for key in configs:\n",
    "    if configs[key] == main['column']:\n",
    "        main_config.update({'key':key})\n",
    "    for i in main['indicators']:\n",
    "        if configs[key] == i['column']:\n",
    "            indicators.append({'name':i['name'],'key':key})\n",
    "main_config.update({'indicators':indicators})\n",
    "            \n",
    "configs['charts'] = chart_config\n",
    "configs['marker'] = marker_config \n",
    "configs['locations'] = loc_config\n",
    "configs['latlong'] = latlong_config\n",
    "configs['table'] = table_config\n",
    "configs['main'] = main_config"
   ]
  },
  {
   "cell_type": "code",
   "execution_count": 11,
   "metadata": {
    "ExecuteTime": {
     "end_time": "2021-08-25T10:21:57.194743Z",
     "start_time": "2021-08-25T10:21:57.191054Z"
    }
   },
   "outputs": [],
   "source": [
    "### Replace Dataset Columns\n",
    "df.columns = index"
   ]
  },
  {
   "cell_type": "code",
   "execution_count": 12,
   "metadata": {
    "ExecuteTime": {
     "end_time": "2021-08-25T10:21:57.210313Z",
     "start_time": "2021-08-25T10:21:57.197554Z"
    },
    "scrolled": false
   },
   "outputs": [
    {
     "data": {
      "text/plain": [
       "{'A': 'Identifier',\n",
       " 'B': 'Woreda',\n",
       " 'C': 'Kebele',\n",
       " 'D': 'School Name',\n",
       " 'E': 'Latitude',\n",
       " 'F': 'Longitude',\n",
       " 'G': 'School Type',\n",
       " 'H': 'Male Pupils',\n",
       " 'I': 'Female Pupils',\n",
       " 'J': 'Reason for Inventory',\n",
       " 'K': 'Water Supply Source',\n",
       " 'L': 'Water',\n",
       " 'M': 'Year Commisioned',\n",
       " 'N': 'Functionality_Status_of_Water_Supply',\n",
       " 'O': 'Yield',\n",
       " 'P': 'Type of Latrine',\n",
       " 'Q': 'Sanitation',\n",
       " 'R': 'latrine_For_Boys_and_Girls_Separate',\n",
       " 'S': 'Number of Boy Pupils',\n",
       " 'T': 'Number of Girl Pupils',\n",
       " 'U': 'Are there Latrines for Disabled?',\n",
       " 'V': 'Latrine_Condition',\n",
       " 'W': 'Presence_of_HandWashingFacility',\n",
       " 'X': 'hand_washing_in_use',\n",
       " 'Y': 'availability_of_soap',\n",
       " 'Z': 'Urinal_present_girls',\n",
       " 'AA': 'Urinal_present_boys',\n",
       " 'AB': 'Separate_latrine_for_tolitet_Staff',\n",
       " 'AC': 'Number of Student Toilets Currently Usable',\n",
       " 'charts': [{'key': 'L',\n",
       "   'name': 'Water',\n",
       "   'value': ['Advanced', 'Basic', 'Limited', 'No Service']},\n",
       "  {'key': 'Q',\n",
       "   'name': 'Sanitation',\n",
       "   'value': ['Advanced', 'Basic', 'Limited', 'No Service']}],\n",
       " 'marker': {'name': 'D', 'color': [], 'detail': []},\n",
       " 'locations': {'level1': 'B', 'level2': 'C'},\n",
       " 'latlong': {'latitude': 'E', 'longitude': 'F'},\n",
       " 'table': [{'key': '', 'name': 'water indicators', 'indicators': []},\n",
       "  {'key': 'Q', 'name': 'sanitation indicators', 'indicators': []},\n",
       "  {'key': '', 'name': 'hygiene indicators', 'indicators': []}],\n",
       " 'main': {'name': 'School Name',\n",
       "  'key': 'D',\n",
       "  'indicators': [{'name': 'Water', 'key': 'L'},\n",
       "   {'name': 'Sanitation', 'key': 'Q'}]}}"
      ]
     },
     "execution_count": 12,
     "metadata": {},
     "output_type": "execute_result"
    }
   ],
   "source": [
    "configs"
   ]
  },
  {
   "cell_type": "code",
   "execution_count": 13,
   "metadata": {
    "ExecuteTime": {
     "end_time": "2021-08-25T10:21:57.242537Z",
     "start_time": "2021-08-25T10:21:57.214097Z"
    }
   },
   "outputs": [
    {
     "data": {
      "text/plain": [
       "[{'A': '23ecc66b-7c42-44b8-b527-2e9e33198928',\n",
       "  'B': 'Shashemene',\n",
       "  'C': 'Bura',\n",
       "  'D': 'Bura',\n",
       "  'E': 7.260344141,\n",
       "  'F': 38.48864077,\n",
       "  'G': 'Primary(1-8)',\n",
       "  'H': 644,\n",
       "  'I': 368,\n",
       "  'J': 'New Scheme',\n",
       "  'K': 'Pipeline Connection',\n",
       "  'L': 'Basic',\n",
       "  'M': 2006,\n",
       "  'N': 'Functional',\n",
       "  'O': 0,\n",
       "  'P': 'Simple Pit Latrine',\n",
       "  'Q': 'Limited',\n",
       "  'R': 'No',\n",
       "  'S': 0,\n",
       "  'T': 0,\n",
       "  'U': 'No',\n",
       "  'V': 'Clean, Used',\n",
       "  'W': 'No Service',\n",
       "  'X': 'No',\n",
       "  'Y': 'No',\n",
       "  'Z': 'No',\n",
       "  'AA': 'No',\n",
       "  'AB': 'No',\n",
       "  'AC': 0},\n",
       " {'A': 'e778e948-3468-46b0-a014-73bbd27fac23',\n",
       "  'B': 'Shashemene',\n",
       "  'C': 'Bura',\n",
       "  'D': 'B/Sheshera',\n",
       "  'E': 7.226484876,\n",
       "  'F': 38.48695793,\n",
       "  'G': 'Primary(1-8)',\n",
       "  'H': 215,\n",
       "  'I': 173,\n",
       "  'J': '',\n",
       "  'K': 'No Water Scheme',\n",
       "  'L': 'No Service',\n",
       "  'M': 0,\n",
       "  'N': '',\n",
       "  'O': 0,\n",
       "  'P': 'Simple Pit Latrine',\n",
       "  'Q': 'Limited',\n",
       "  'R': 'No',\n",
       "  'S': 0,\n",
       "  'T': 0,\n",
       "  'U': 'No',\n",
       "  'V': 'Dirty But Used',\n",
       "  'W': 'No Service',\n",
       "  'X': 'No',\n",
       "  'Y': 'No',\n",
       "  'Z': 'No',\n",
       "  'AA': 'No',\n",
       "  'AB': 'No',\n",
       "  'AC': 0}]"
      ]
     },
     "execution_count": 13,
     "metadata": {},
     "output_type": "execute_result"
    }
   ],
   "source": [
    "data = list(df.T.to_dict().values())\n",
    "data[:2]"
   ]
  },
  {
   "cell_type": "code",
   "execution_count": 14,
   "metadata": {
    "ExecuteTime": {
     "end_time": "2021-08-25T10:21:57.269466Z",
     "start_time": "2021-08-25T10:21:57.250684Z"
    }
   },
   "outputs": [],
   "source": [
    "### to json\n",
    "df.to_json('../resources/js/data/eth_school_data.json', orient=\"records\", indent=2)\n",
    "\n",
    "with open('../resources/js/data/eth_school_config.json', 'w') as outfile:\n",
    "    json.dump(configs, outfile)"
   ]
  }
 ],
 "metadata": {
  "kernelspec": {
   "display_name": "Python 3",
   "language": "python",
   "name": "python3"
  },
  "language_info": {
   "codemirror_mode": {
    "name": "ipython",
    "version": 3
   },
   "file_extension": ".py",
   "mimetype": "text/x-python",
   "name": "python",
   "nbconvert_exporter": "python",
   "pygments_lexer": "ipython3",
   "version": "3.8.8"
  },
  "toc": {
   "base_numbering": 1,
   "nav_menu": {},
   "number_sections": true,
   "sideBar": true,
   "skip_h1_title": false,
   "title_cell": "Table of Contents",
   "title_sidebar": "Contents",
   "toc_cell": false,
   "toc_position": {},
   "toc_section_display": true,
   "toc_window_display": false
  }
 },
 "nbformat": 4,
 "nbformat_minor": 4
}
