{
 "cells": [
  {
   "cell_type": "code",
   "execution_count": 1,
   "metadata": {
    "ExecuteTime": {
     "end_time": "2021-08-25T09:13:11.316522Z",
     "start_time": "2021-08-25T09:13:10.810272Z"
    }
   },
   "outputs": [],
   "source": [
    "import pandas as pd\n",
    "import numpy as np\n",
    "import string\n",
    "import json"
   ]
  },
  {
   "cell_type": "code",
   "execution_count": 2,
   "metadata": {
    "ExecuteTime": {
     "end_time": "2021-08-25T09:13:11.327170Z",
     "start_time": "2021-08-25T09:13:11.319850Z"
    }
   },
   "outputs": [],
   "source": [
    "## Static Config\n",
    "locations = [\n",
    "    {\n",
    "        \"column\": \"Woreda\",\n",
    "        \"name\": \"level1\"\n",
    "    },\n",
    "    {\n",
    "        \"column\": \"Kebele\",\n",
    "        \"name\": \"level2\"\n",
    "    }\n",
    "]\n",
    "\n",
    "\n",
    "latlong = [\"latitude\", \"longitude\"]\n",
    "charts = [\"water service level\", \"sanitation service level\", \"hygiene service ladder\"]\n",
    "default = {\n",
    "    \"water service level\" : [\"Safely Managed\", \"Basic\", \"Limited\", \"Surface Water\", \"Unimproved\",\"No Service\"],\n",
    "    \"sanitation service level\": [\"Safely Managed\", \"Basic\", \"Limited\", \"Unimproved\", \"Open Defecation\"],\n",
    "    \"hygiene service ladder\": [\"Safely Managed\", \"Basic\", \"Limited\", \"No Service\"]\n",
    "}\n",
    "\n",
    "\n",
    "## Table config\n",
    "table = [\n",
    "    {\n",
    "        \"name\": \"water indicators\",\n",
    "        \"column\": \"water service level\",\n",
    "        \"indicators\": [\n",
    "            \"Specific Location of Water Collection\",\n",
    "            \"Time to Collect Water\",\n",
    "            \"Times in Last Month When Drinking Water Quantity Was Insufficient\"\n",
    "        ],\n",
    "    },\n",
    "    {\n",
    "        \"name\": \"sanitation indicators\",\n",
    "        \"column\": \"sanitation service level\",\n",
    "        \"indicators\": [\n",
    "            \"Type of Toilet Facility\",\n",
    "            \"Facility is Shared with Others Outside of the Household\",\n",
    "            \"Location of Sanitation Facility\",\n",
    "            \"Emptying of On-site Sanitation Facilities\",\n",
    "        ],\n",
    "    },\n",
    "    {\n",
    "        \"name\": \"hygiene indicators\",\n",
    "        \"column\": \"hygiene service level\",\n",
    "        \"indicators\": [\n",
    "            \"Type of Handwashing Facility Used Most Often\",\n",
    "            \"Water Available at Handwashing Facility\",\n",
    "            \"Soap is Available\"\n",
    "        ],\n",
    "    }\n",
    "]"
   ]
  },
  {
   "cell_type": "code",
   "execution_count": 3,
   "metadata": {
    "ExecuteTime": {
     "end_time": "2021-08-25T09:13:11.343300Z",
     "start_time": "2021-08-25T09:13:11.329938Z"
    }
   },
   "outputs": [],
   "source": [
    "df = pd.read_csv('eth_hh_data.csv', error_bad_lines=False)"
   ]
  },
  {
   "cell_type": "code",
   "execution_count": 4,
   "metadata": {
    "ExecuteTime": {
     "end_time": "2021-08-25T09:13:11.350211Z",
     "start_time": "2021-08-25T09:13:11.345926Z"
    }
   },
   "outputs": [],
   "source": [
    "## Delete Column with no name\n",
    "df = df.loc[:, ~df.columns.str.contains('^Unnamed')]"
   ]
  },
  {
   "cell_type": "code",
   "execution_count": 5,
   "metadata": {
    "ExecuteTime": {
     "end_time": "2021-08-25T09:13:11.361667Z",
     "start_time": "2021-08-25T09:13:11.353119Z"
    }
   },
   "outputs": [],
   "source": [
    "### Fill Empty Integer Values\n",
    "numerics = ['int16', 'int32', 'int64', 'float16', 'float32', 'float64']\n",
    "df_num = df.select_dtypes(include=numerics)\n",
    "if 'Latitude' in list(df_num):\n",
    "    df_num = df.num.drop(columns=['Latitude'])\n",
    "if 'Longitude' in list(df_num):\n",
    "    df_num = df.num.drop(columns=['Longitude'])\n",
    "df_num = df_num.fillna(0.0).astype(np.int32)\n",
    "df[list(df_num)] = df_num"
   ]
  },
  {
   "cell_type": "code",
   "execution_count": 6,
   "metadata": {
    "ExecuteTime": {
     "end_time": "2021-08-25T09:13:11.375394Z",
     "start_time": "2021-08-25T09:13:11.364275Z"
    }
   },
   "outputs": [],
   "source": [
    "### Replace Empty String Values\n",
    "df_str = df.select_dtypes(include=['object']).fillna(\"\")\n",
    "df[list(df_str)] = df_str"
   ]
  },
  {
   "cell_type": "code",
   "execution_count": 7,
   "metadata": {
    "ExecuteTime": {
     "end_time": "2021-08-25T09:13:11.383442Z",
     "start_time": "2021-08-25T09:13:11.378344Z"
    }
   },
   "outputs": [],
   "source": [
    "## Generate Settings \n",
    "chars =list(string.ascii_uppercase)\n",
    "chars_col = chars + [x+y for x in chars for y in chars]\n",
    "keyname = lambda x,y: {a:y[b] if (a != 'data_point_id') else 'data_point_id' for b, a in enumerate(x)}\n",
    "\n",
    "columns_length = len(list(df))\n",
    "column_names = list(df)"
   ]
  },
  {
   "cell_type": "code",
   "execution_count": 8,
   "metadata": {
    "ExecuteTime": {
     "end_time": "2021-08-25T09:13:11.396338Z",
     "start_time": "2021-08-25T09:13:11.387917Z"
    }
   },
   "outputs": [],
   "source": [
    "### Generate configs\n",
    "index = chars_col[:columns_length]\n",
    "configs = keyname(index, column_names)\n",
    "\n",
    "chart_config = []\n",
    "latlong_config = {}\n",
    "\n",
    "for key in configs:\n",
    "    if(configs[key].lower() in charts):\n",
    "        chart_config.append({'key': key, 'name': configs[key], 'value': default[configs[key].lower()]})\n",
    "    if(configs[key].lower() in latlong):\n",
    "        latlong_config.update({configs[key].lower(): key})\n",
    "\n",
    "### Locations\n",
    "loc_config = {}\n",
    "for loc in locations:\n",
    "    column_index = \"\"\n",
    "    for key in configs:\n",
    "        if loc['column'].lower() == configs[key].lower():\n",
    "            column_index = key\n",
    "    loc_config.update({loc['name'].lower(): column_index})\n",
    "\n",
    "#### Table\n",
    "table_config = []\n",
    "for tb in table:\n",
    "    column_index = \"\"\n",
    "    tb_indicators = []\n",
    "    for key in configs:\n",
    "        if tb['column'].lower() == configs[key].lower():\n",
    "            column_index = key\n",
    "        if configs[key].lower() in [x.lower() for x in tb['indicators']]:\n",
    "            tb_indicators.append(key)\n",
    "    table_config.append({\n",
    "        \"key\": column_index,\n",
    "        \"name\": tb['name'],\n",
    "        \"indicators\": tb_indicators\n",
    "    })\n",
    "\n",
    "            \n",
    "configs['charts'] = chart_config\n",
    "configs['locations'] = loc_config\n",
    "configs['latlong'] = latlong_config\n",
    "configs['table'] = table_config"
   ]
  },
  {
   "cell_type": "code",
   "execution_count": 9,
   "metadata": {
    "ExecuteTime": {
     "end_time": "2021-08-25T09:13:11.404616Z",
     "start_time": "2021-08-25T09:13:11.399022Z"
    }
   },
   "outputs": [],
   "source": [
    "### Replace Dataset Columns\n",
    "df.columns = index"
   ]
  },
  {
   "cell_type": "code",
   "execution_count": 10,
   "metadata": {
    "ExecuteTime": {
     "end_time": "2021-08-25T09:13:11.428422Z",
     "start_time": "2021-08-25T09:13:11.413742Z"
    },
    "scrolled": false
   },
   "outputs": [
    {
     "data": {
      "text/plain": [
       "{'A': 'Woreda',\n",
       " 'B': 'Kebele',\n",
       " 'C': 'Village',\n",
       " 'D': 'Name of Respondent',\n",
       " 'E': 'Household Size',\n",
       " 'F': 'Main Source of Drinking Water',\n",
       " 'G': 'Water Service Level',\n",
       " 'H': 'Specific Location of Water Collection',\n",
       " 'I': 'Time to Collect Water',\n",
       " 'J': 'Times in Last Month When Drinking Water Quantity Was Insufficient',\n",
       " 'K': 'Sanitation Service Level',\n",
       " 'L': 'Type of Toilet Facility',\n",
       " 'M': 'Facility is Shared with Others Outside of the Household',\n",
       " 'N': 'Location of Sanitation Facility',\n",
       " 'O': 'Emptying of On-site Sanitation Facilities',\n",
       " 'P': 'Hygiene Service Level',\n",
       " 'Q': 'Type of Handwashing Facility Used Most Often',\n",
       " 'R': 'Water Available at Handwashing Facility',\n",
       " 'S': 'Soap is Available',\n",
       " 'charts': [{'key': 'G',\n",
       "   'name': 'Water Service Level',\n",
       "   'value': ['Safely Managed',\n",
       "    'Basic',\n",
       "    'Limited',\n",
       "    'Surface Water',\n",
       "    'Unimproved',\n",
       "    'No Service']},\n",
       "  {'key': 'K',\n",
       "   'name': 'Sanitation Service Level',\n",
       "   'value': ['Safely Managed',\n",
       "    'Basic',\n",
       "    'Limited',\n",
       "    'Unimproved',\n",
       "    'Open Defecation']}],\n",
       " 'locations': {'level1': 'A', 'level2': 'B'},\n",
       " 'latlong': {},\n",
       " 'table': [{'key': 'G',\n",
       "   'name': 'water indicators',\n",
       "   'indicators': ['H', 'I', 'J']},\n",
       "  {'key': 'K',\n",
       "   'name': 'sanitation indicators',\n",
       "   'indicators': ['L', 'M', 'N', 'O']},\n",
       "  {'key': 'P', 'name': 'hygiene indicators', 'indicators': ['Q', 'R', 'S']}]}"
      ]
     },
     "execution_count": 10,
     "metadata": {},
     "output_type": "execute_result"
    }
   ],
   "source": [
    "configs"
   ]
  },
  {
   "cell_type": "code",
   "execution_count": 11,
   "metadata": {
    "ExecuteTime": {
     "end_time": "2021-08-25T09:13:11.508578Z",
     "start_time": "2021-08-25T09:13:11.430904Z"
    }
   },
   "outputs": [
    {
     "data": {
      "text/plain": [
       "[{'A': 'Negele Arsi (Rural)',\n",
       "  'B': 'Kersa Gara',\n",
       "  'C': \"Bu'ura Gara\",\n",
       "  'D': 'fatuma aman',\n",
       "  'E': 7,\n",
       "  'F': 'Public tap/standpipe',\n",
       "  'G': 'Basic',\n",
       "  'H': 'In own dwelling',\n",
       "  'I': 'less than 30 minutes',\n",
       "  'J': 'No, always sufficient',\n",
       "  'K': 'Safely Managed',\n",
       "  'L': 'Toilet that flush/pour to flush piped sewer system',\n",
       "  'M': 'Yes',\n",
       "  'N': 'In own dwelling',\n",
       "  'O': '',\n",
       "  'P': 'Basic',\n",
       "  'Q': 'Fixed facility observed in dwelling',\n",
       "  'R': 'Water is available',\n",
       "  'S': 'Yes, soap or detergent are present'},\n",
       " {'A': 'Shashemene (Rural)',\n",
       "  'B': 'Chabi',\n",
       "  'C': 'Chabi',\n",
       "  'D': 'Burtukan Hedato',\n",
       "  'E': 7,\n",
       "  'F': 'Deep tubewell/borehole',\n",
       "  'G': 'Limited',\n",
       "  'H': 'Elsewhere',\n",
       "  'I': 'More than 30 minutes',\n",
       "  'J': 'Yes, at least once',\n",
       "  'K': 'Basic',\n",
       "  'L': 'Pit latrine with slab',\n",
       "  'M': 'No',\n",
       "  'N': 'In own dwelling',\n",
       "  'O': 'No, never emptied',\n",
       "  'P': 'Basic',\n",
       "  'Q': 'Mobile object observed (bucket, jug, kettle)',\n",
       "  'R': 'Water is available',\n",
       "  'S': 'Yes, soap or detergent are present'}]"
      ]
     },
     "execution_count": 11,
     "metadata": {},
     "output_type": "execute_result"
    }
   ],
   "source": [
    "data = list(df.T.to_dict().values())\n",
    "data[:2]"
   ]
  },
  {
   "cell_type": "code",
   "execution_count": 12,
   "metadata": {
    "ExecuteTime": {
     "end_time": "2021-08-25T09:13:11.522632Z",
     "start_time": "2021-08-25T09:13:11.513095Z"
    }
   },
   "outputs": [],
   "source": [
    "### to json\n",
    "df.to_json('../resources/js/data/nep_hh_data.json', orient=\"records\", indent=2)\n",
    "\n",
    "with open('../resources/js/data/nep_hh_config.json', 'w') as outfile:\n",
    "    json.dump(configs, outfile)"
   ]
  }
 ],
 "metadata": {
  "kernelspec": {
   "display_name": "Python 3",
   "language": "python",
   "name": "python3"
  },
  "language_info": {
   "codemirror_mode": {
    "name": "ipython",
    "version": 3
   },
   "file_extension": ".py",
   "mimetype": "text/x-python",
   "name": "python",
   "nbconvert_exporter": "python",
   "pygments_lexer": "ipython3",
   "version": "3.8.5"
  },
  "toc": {
   "base_numbering": 1,
   "nav_menu": {},
   "number_sections": true,
   "sideBar": true,
   "skip_h1_title": false,
   "title_cell": "Table of Contents",
   "title_sidebar": "Contents",
   "toc_cell": false,
   "toc_position": {},
   "toc_section_display": true,
   "toc_window_display": false
  }
 },
 "nbformat": 4,
 "nbformat_minor": 4
}
