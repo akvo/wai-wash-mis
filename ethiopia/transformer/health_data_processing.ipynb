{
 "cells": [
  {
   "cell_type": "code",
   "execution_count": 1,
   "metadata": {
    "ExecuteTime": {
     "end_time": "2021-08-25T09:20:22.760249Z",
     "start_time": "2021-08-25T09:20:22.499569Z"
    }
   },
   "outputs": [],
   "source": [
    "import pandas as pd\n",
    "import numpy as np\n",
    "import string\n",
    "import json\n",
    "import random"
   ]
  },
  {
   "cell_type": "code",
   "execution_count": 2,
   "metadata": {
    "ExecuteTime": {
     "end_time": "2021-08-25T09:20:22.768714Z",
     "start_time": "2021-08-25T09:20:22.762797Z"
    }
   },
   "outputs": [],
   "source": [
    "## Static Config\n",
    "locations = [\n",
    "    {\n",
    "        \"column\": \"Woreda\",\n",
    "        \"name\": \"level1\"\n",
    "    },\n",
    "    {\n",
    "        \"column\": \"Kebele\",\n",
    "        \"name\": \"level2\"\n",
    "    }\n",
    "]\n",
    "\n",
    "latlong = [\"latitude\", \"longitude\"]\n",
    "charts = [\n",
    "    \"water\", \n",
    "    \"sanitation\", \n",
    "    \"hygiene\", \n",
    "    \"health care waste service level\",\n",
    "    \"environmental cleaning service level\"\n",
    "]\n",
    "default = {\n",
    "    \"water\" : [\"Advanced\", \"Basic\", \"Limited\", \"No Service\"],\n",
    "    \"sanitation\": [\"Advanced\", \"Basic\", \"Limited\", \"No Service\"],\n",
    "    \"hygiene\": [\"Advanced\", \"Basic\", \"Limited\", \"No Service\"],\n",
    "    \"health care waste service level\": [\"Advanced\", \"Basic\", \"Limited\", \"No Service\"],\n",
    "    \"environmental cleaning service level\": [\"Advanced\", \"Basic\", \"Limited\", \"No Service\"]\n",
    "}\n",
    "\n",
    "## Marker Detail\n",
    "marker = {\n",
    "    \"name\" : \"Name_of_Health_facility\",\n",
    "    \"color\": [],\n",
    "    \"detail\": []\n",
    "}\n",
    "\n",
    "main = {\n",
    "    'name':'Health Facility',\n",
    "    'column': 'Name_of_Health_facility',\n",
    "    'indicators': [{\n",
    "        'name': 'Water',\n",
    "        'column': 'Water'\n",
    "    },{\n",
    "        'name': 'Sanitation',\n",
    "        'column': 'Sanitation'\n",
    "    },{\n",
    "        'name': 'Hygiene',\n",
    "        'column': 'Hygiene'\n",
    "    }]\n",
    "}\n"
   ]
  },
  {
   "cell_type": "code",
   "execution_count": 3,
   "metadata": {
    "ExecuteTime": {
     "end_time": "2021-08-25T09:20:22.785656Z",
     "start_time": "2021-08-25T09:20:22.773812Z"
    }
   },
   "outputs": [],
   "source": [
    "df = pd.read_csv('eth_health_data.csv')"
   ]
  },
  {
   "cell_type": "code",
   "execution_count": 4,
   "metadata": {
    "ExecuteTime": {
     "end_time": "2021-08-25T09:20:22.795559Z",
     "start_time": "2021-08-25T09:20:22.789890Z"
    }
   },
   "outputs": [],
   "source": [
    "## Delete Column with no name\n",
    "df = df.loc[:, ~df.columns.str.contains('^Unnamed')]"
   ]
  },
  {
   "cell_type": "code",
   "execution_count": 5,
   "metadata": {
    "ExecuteTime": {
     "end_time": "2021-08-25T09:20:22.806849Z",
     "start_time": "2021-08-25T09:20:22.798218Z"
    }
   },
   "outputs": [],
   "source": [
    "## Fill Column\n",
    "#default_column = [\"Identifier\", \"Woreda\", \"Kebele\", \"Name_of_Health_facility\", \"Latitude\", \"Longitude\", \"Type_of_healthy_facility\"]\n",
    "#for column in df.columns:\n",
    "#    if column not in default_column and column != \"Environmental Cleaning Service Level\":\n",
    "#        df[column] = df[column].apply(lambda x: random.choice(df[column].dropna().unique()))"
   ]
  },
  {
   "cell_type": "code",
   "execution_count": 6,
   "metadata": {
    "ExecuteTime": {
     "end_time": "2021-08-25T09:20:22.817342Z",
     "start_time": "2021-08-25T09:20:22.809203Z"
    }
   },
   "outputs": [],
   "source": [
    "### Fill Empty Integer Values\n",
    "numerics = ['int16', 'int32', 'int64', 'float16', 'float32', 'float64']\n",
    "df_num = df.select_dtypes(include=numerics).drop(columns=['Latitude', 'Longitude'])\n",
    "df_num = df_num.fillna(0.0).astype(np.int32)\n",
    "df[list(df_num)] = df_num"
   ]
  },
  {
   "cell_type": "code",
   "execution_count": 7,
   "metadata": {
    "ExecuteTime": {
     "end_time": "2021-08-25T09:20:22.835344Z",
     "start_time": "2021-08-25T09:20:22.820998Z"
    }
   },
   "outputs": [],
   "source": [
    "### Replace Empty String Values\n",
    "df_str = df.select_dtypes(include=['object']).fillna(\"\")\n",
    "for strcol in list(df_str):\n",
    "    df_str[strcol] = df_str[strcol].str.strip()\n",
    "df[list(df_str)] = df_str"
   ]
  },
  {
   "cell_type": "code",
   "execution_count": 8,
   "metadata": {
    "ExecuteTime": {
     "end_time": "2021-08-25T09:20:22.843939Z",
     "start_time": "2021-08-25T09:20:22.840670Z"
    }
   },
   "outputs": [],
   "source": [
    "## Generate Settings \n",
    "chars =list(string.ascii_uppercase)\n",
    "chars_col = chars + [x+y for x in chars for y in chars]\n",
    "keyname = lambda x,y: {a:y[b] if (a != 'data_point_id') else 'data_point_id' for b, a in enumerate(x)}\n",
    "\n",
    "columns_length = len(list(df))\n",
    "column_names = list(df)"
   ]
  },
  {
   "cell_type": "code",
   "execution_count": 9,
   "metadata": {
    "ExecuteTime": {
     "end_time": "2021-08-25T09:20:22.860474Z",
     "start_time": "2021-08-25T09:20:22.847176Z"
    }
   },
   "outputs": [],
   "source": [
    "### Generate configs\n",
    "index = chars_col[:columns_length]\n",
    "configs = keyname(index, column_names)\n",
    "\n",
    "marker_config = {}\n",
    "chart_config = []\n",
    "latlong_config = {}\n",
    "for key in configs:\n",
    "    if(configs[key].lower() in charts):\n",
    "        chart_config.append({'key': key, 'name': configs[key], 'value': default[configs[key].lower()]})\n",
    "    if(configs[key].lower() in latlong):\n",
    "        latlong_config.update({configs[key].lower(): key})\n",
    "    if(configs[key].lower() == marker['name'].lower()):\n",
    "        marker_config = { \"name\" : key}\n",
    "\n",
    "#### Locations\n",
    "loc_config = {}\n",
    "for loc in locations:\n",
    "    column_index = \"\"\n",
    "    for key in configs:\n",
    "        if loc['column'].lower() == configs[key].lower():\n",
    "            column_index = key\n",
    "    loc_config.update({loc['name'].lower(): column_index})\n",
    "\n",
    "#### Marker\n",
    "marker_color = [];\n",
    "for mk in marker['color']:\n",
    "    column = None\n",
    "    andColumn = None\n",
    "    for key in configs:\n",
    "        if configs[key].lower() == mk['column'].lower():\n",
    "            column = key\n",
    "        if mk['and'] != None and configs[key].lower() == mk['and'].lower():\n",
    "            andColumn = key\n",
    "    marker_color.append({\n",
    "        \"name\": mk['name'],\n",
    "        \"column\": column,\n",
    "        \"action\": mk['action'],\n",
    "        \"type\": mk['type'],\n",
    "        \"value\": mk['value'],\n",
    "        \"and\": andColumn,\n",
    "        \"and_value\": mk['and_value'],\n",
    "        \"color\": mk['color']\n",
    "    })\n",
    "marker_config['color'] = marker_color\n",
    "\n",
    "#### Marker Detail\n",
    "marker_detail = [];\n",
    "for mk in marker['detail']:\n",
    "    column = None\n",
    "    andColumn = None\n",
    "    for key in configs:\n",
    "        if configs[key].lower() == mk['column'].lower():\n",
    "            column = key\n",
    "        if mk['and'] != None and configs[key].lower() == mk['and'].lower():\n",
    "            andColumn = key\n",
    "    marker_detail.append({\n",
    "        \"name\": mk['name'],\n",
    "        \"column\": column,\n",
    "        \"action\": mk['action'],\n",
    "        \"type\": mk['type'],\n",
    "        \"value\": mk['value'],\n",
    "        \"and\": andColumn,\n",
    "        \"and_value\": mk['and_value']\n",
    "    })\n",
    "marker_config['detail'] = marker_detail\n",
    "    \n",
    "## Main Table\n",
    "main_config = {'name':main['name']}\n",
    "indicators = []\n",
    "for key in configs:\n",
    "    if configs[key] == main['column']:\n",
    "        main_config.update({'key':key})\n",
    "    for i in main['indicators']:\n",
    "        if configs[key] == i['column']:\n",
    "            indicators.append({'name':i['name'],'key':key})\n",
    "main_config.update({'indicators':indicators})\n",
    "            \n",
    "configs['charts'] = chart_config\n",
    "configs['marker'] = marker_config \n",
    "configs['locations'] = loc_config\n",
    "configs['latlong'] = latlong_config\n",
    "configs['main'] = main_config"
   ]
  },
  {
   "cell_type": "code",
   "execution_count": 10,
   "metadata": {
    "ExecuteTime": {
     "end_time": "2021-08-25T09:20:22.867447Z",
     "start_time": "2021-08-25T09:20:22.863039Z"
    }
   },
   "outputs": [],
   "source": [
    "### Replace Dataset Columns\n",
    "df.columns = index"
   ]
  },
  {
   "cell_type": "code",
   "execution_count": 11,
   "metadata": {
    "ExecuteTime": {
     "end_time": "2021-08-25T09:20:22.884116Z",
     "start_time": "2021-08-25T09:20:22.874255Z"
    },
    "scrolled": false
   },
   "outputs": [
    {
     "data": {
      "text/plain": [
       "{'A': 'Woreda',\n",
       " 'B': 'Kebele',\n",
       " 'C': 'Name_of_Health_facility',\n",
       " 'D': 'Latitude',\n",
       " 'E': 'Longitude',\n",
       " 'F': 'Type_of_healthy_facility',\n",
       " 'G': 'Description of Water Supply in Health Facilities',\n",
       " 'H': 'Water',\n",
       " 'I': 'Latrine_Description',\n",
       " 'J': 'Sanitation',\n",
       " 'K': 'Physically_Separate_Latrines_for_Male_Female_Patients',\n",
       " 'L': 'Facilitated_Access_for_Disabled',\n",
       " 'M': 'Latrine_condition',\n",
       " 'N': '992194004|Is_there_hand_washing_facility_with_in_5m_of_the_toilet',\n",
       " 'O': 'Hygiene',\n",
       " 'P': 'Is_hand_washing_facility_operating_i.e_with_water',\n",
       " 'Q': 'Is_Soap_available_at_each_hand_washing_stand',\n",
       " 'R': 'Is_there_a_toilet_for_staff',\n",
       " 'charts': [{'key': 'H',\n",
       "   'name': 'Water',\n",
       "   'value': ['Advanced', 'Basic', 'Limited', 'No Service']},\n",
       "  {'key': 'J',\n",
       "   'name': 'Sanitation',\n",
       "   'value': ['Advanced', 'Basic', 'Limited', 'No Service']},\n",
       "  {'key': 'O',\n",
       "   'name': 'Hygiene',\n",
       "   'value': ['Advanced', 'Basic', 'Limited', 'No Service']}],\n",
       " 'marker': {'name': 'C', 'color': [], 'detail': []},\n",
       " 'locations': {'level1': 'A', 'level2': 'B'},\n",
       " 'latlong': {'latitude': 'D', 'longitude': 'E'},\n",
       " 'main': {'name': 'Health Facility',\n",
       "  'key': 'C',\n",
       "  'indicators': [{'name': 'Water', 'key': 'H'},\n",
       "   {'name': 'Sanitation', 'key': 'J'},\n",
       "   {'name': 'Hygiene', 'key': 'O'}]}}"
      ]
     },
     "execution_count": 11,
     "metadata": {},
     "output_type": "execute_result"
    }
   ],
   "source": [
    "configs"
   ]
  },
  {
   "cell_type": "code",
   "execution_count": 12,
   "metadata": {
    "ExecuteTime": {
     "end_time": "2021-08-25T09:20:22.906948Z",
     "start_time": "2021-08-25T09:20:22.895125Z"
    }
   },
   "outputs": [
    {
     "data": {
      "text/plain": [
       "[{'A': 'Shashemene',\n",
       "  'B': 'Mararo',\n",
       "  'C': 'Mararo',\n",
       "  'D': 7.21461843,\n",
       "  'E': 38.67594311,\n",
       "  'F': 'Health Post',\n",
       "  'G': 'No water supply in premises',\n",
       "  'H': 'No Service',\n",
       "  'I': 'No Latrine',\n",
       "  'J': 'No Service',\n",
       "  'K': 'No',\n",
       "  'L': 'No',\n",
       "  'M': 'Filthy ,unused',\n",
       "  'N': 'No Facility',\n",
       "  'O': 'No Service',\n",
       "  'P': 'Yes',\n",
       "  'Q': 'No',\n",
       "  'R': 'No'},\n",
       " {'A': 'Shashemene',\n",
       "  'B': 'Jigesa qorke',\n",
       "  'C': 'Jigesa',\n",
       "  'D': 7.205212947,\n",
       "  'E': 38.66626716,\n",
       "  'F': 'Health Post',\n",
       "  'G': 'No water supply in premises',\n",
       "  'H': 'No Service',\n",
       "  'I': 'No Latrine',\n",
       "  'J': 'No Service',\n",
       "  'K': 'No',\n",
       "  'L': 'No',\n",
       "  'M': 'Filthy ,unused',\n",
       "  'N': 'No Facility',\n",
       "  'O': 'No Service',\n",
       "  'P': 'Yes',\n",
       "  'Q': 'No',\n",
       "  'R': 'No'}]"
      ]
     },
     "execution_count": 12,
     "metadata": {},
     "output_type": "execute_result"
    }
   ],
   "source": [
    "data = list(df.T.to_dict().values())\n",
    "data[:2]"
   ]
  },
  {
   "cell_type": "code",
   "execution_count": 13,
   "metadata": {
    "ExecuteTime": {
     "end_time": "2021-08-25T09:20:22.923575Z",
     "start_time": "2021-08-25T09:20:22.910111Z"
    }
   },
   "outputs": [],
   "source": [
    "### to json\n",
    "df.to_json('../resources/js/data/eth_health_data.json', orient=\"records\", indent=2)\n",
    "\n",
    "with open('../resources/js/data/eth_health_config.json', 'w') as outfile:\n",
    "    json.dump(configs, outfile)"
   ]
  },
  {
   "cell_type": "code",
   "execution_count": null,
   "metadata": {},
   "outputs": [],
   "source": []
  }
 ],
 "metadata": {
  "kernelspec": {
   "display_name": "Python 3",
   "language": "python",
   "name": "python3"
  },
  "language_info": {
   "codemirror_mode": {
    "name": "ipython",
    "version": 3
   },
   "file_extension": ".py",
   "mimetype": "text/x-python",
   "name": "python",
   "nbconvert_exporter": "python",
   "pygments_lexer": "ipython3",
   "version": "3.8.8"
  },
  "toc": {
   "base_numbering": 1,
   "nav_menu": {},
   "number_sections": true,
   "sideBar": true,
   "skip_h1_title": false,
   "title_cell": "Table of Contents",
   "title_sidebar": "Contents",
   "toc_cell": false,
   "toc_position": {},
   "toc_section_display": true,
   "toc_window_display": false
  }
 },
 "nbformat": 4,
 "nbformat_minor": 4
}
