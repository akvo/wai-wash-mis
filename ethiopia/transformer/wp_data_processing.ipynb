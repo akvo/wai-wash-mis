{
 "cells": [
  {
   "cell_type": "code",
   "execution_count": 1,
   "metadata": {
    "ExecuteTime": {
     "end_time": "2021-08-25T11:42:06.766293Z",
     "start_time": "2021-08-25T11:42:06.293590Z"
    }
   },
   "outputs": [],
   "source": [
    "import pandas as pd\n",
    "import numpy as np\n",
    "import string\n",
    "import json\n",
    "import uuid"
   ]
  },
  {
   "cell_type": "code",
   "execution_count": 2,
   "metadata": {
    "ExecuteTime": {
     "end_time": "2021-08-25T11:42:06.779422Z",
     "start_time": "2021-08-25T11:42:06.768919Z"
    }
   },
   "outputs": [],
   "source": [
    "## Static Config\n",
    "## Static Config\n",
    "locations = [\n",
    "    {\n",
    "        \"column\": \"Woreda\",\n",
    "        \"name\": \"level1\"\n",
    "    },\n",
    "    {\n",
    "        \"column\": \"Kebele\",\n",
    "        \"name\": \"level2\"\n",
    "    }\n",
    "]\n",
    "\n",
    "latlong = [\"latitude\", \"longitude\"]\n",
    "\n",
    "## Marker Detail\n",
    "marker = {\n",
    "    \"name\" : \"Site Name\",\n",
    "    \"color\": [\n",
    "        {\n",
    "            \"name\": \"Functionality Status\",\n",
    "            \"column\": \"Functionality Status\",\n",
    "            \"action\": \"select\",\n",
    "            \"type\": \"string\",\n",
    "            \"value\": \"Functional\",\n",
    "            \"and\": None,\n",
    "            \"and_value\": None,\n",
    "            \"color\": \"green\"\n",
    "        },\n",
    "        {\n",
    "            \"name\": \"Functionality Status\",\n",
    "            \"column\": \"Functionality Status\",\n",
    "            \"action\": \"select\",\n",
    "            \"type\": \"string\",\n",
    "            \"value\": \"Non functional\",\n",
    "            \"and\": None,\n",
    "            \"and_value\": None,\n",
    "            \"color\": \"red\"\n",
    "        },\n",
    "        {\n",
    "            \"name\": \"Functionality Status\",\n",
    "            \"column\": \"Functionality Status\",\n",
    "            \"action\": \"select\",\n",
    "            \"type\": \"string\",\n",
    "            \"value\": \"No data\",\n",
    "            \"and\": None,\n",
    "            \"and_value\": None,\n",
    "            \"color\": \"grey\"\n",
    "        },\n",
    "        {\n",
    "            \"name\": \"Functionality Status\",\n",
    "            \"column\": \"Functionality Status\",\n",
    "            \"action\": \"select\",\n",
    "            \"type\": \"string\",\n",
    "            \"value\": None,\n",
    "            \"and\": None,\n",
    "            \"and_value\": None,\n",
    "            \"color\": \"grey\"\n",
    "        },\n",
    "    ],\n",
    "    \"detail\": [\n",
    "        {\n",
    "            \"name\": \"Source Type\",\n",
    "            \"column\": \"Water Source Type\",\n",
    "            \"action\": \"select\",\n",
    "            \"type\": \"string\",\n",
    "            \"value\": None,\n",
    "            \"and\": None,\n",
    "            \"and_value\": None,\n",
    "        },\n",
    "        {\n",
    "            \"name\": \"Functionality Status\",\n",
    "            \"column\": \"Functionality Status\",\n",
    "            \"action\": \"select\",\n",
    "            \"type\": \"string\",\n",
    "            \"value\": None,\n",
    "            \"and\": None,\n",
    "            \"and_value\": None,\n",
    "        },\n",
    "    ]\n",
    "}\n",
    "\n",
    "main = {\n",
    "    'name':'Non-Functional Facility',\n",
    "    'column': 'Site Name',\n",
    "    'select': {\n",
    "        'column': \"Functionality Status\",\n",
    "        'value': [\n",
    "            'Non functional',\n",
    "            'No data'\n",
    "        ]\n",
    "    },\n",
    "    'indicators': [{\n",
    "        'name': 'Number of Users',\n",
    "        'column': 'Number of Users'\n",
    "    },{\n",
    "        'name': 'Water Source Type',\n",
    "        'column': 'Water Source Type'\n",
    "    },{\n",
    "        'name': 'Energy Source',\n",
    "        'column': 'Souce of Energy'\n",
    "    }]\n",
    "}"
   ]
  },
  {
   "cell_type": "code",
   "execution_count": 3,
   "metadata": {
    "ExecuteTime": {
     "end_time": "2021-08-25T11:42:06.803180Z",
     "start_time": "2021-08-25T11:42:06.791870Z"
    }
   },
   "outputs": [],
   "source": [
    "df = pd.read_csv('eth_wp_data.csv')\n",
    "if 'Identifier' not in list(df):\n",
    "    df['Identifier'] = [str(uuid.uuid4()) for _ in range(len(df.index))]\n",
    "    df = df[['Identifier'] + list(df)[0:-1]]"
   ]
  },
  {
   "cell_type": "code",
   "execution_count": 4,
   "metadata": {
    "ExecuteTime": {
     "end_time": "2021-08-25T11:42:06.862562Z",
     "start_time": "2021-08-25T11:42:06.852473Z"
    }
   },
   "outputs": [
    {
     "data": {
      "text/plain": [
       "array(['more than 100', '50-100', 'less than 25', '25-50', 'no data'],\n",
       "      dtype=object)"
      ]
     },
     "execution_count": 4,
     "metadata": {},
     "output_type": "execute_result"
    }
   ],
   "source": [
    "def getEstimatedUser(x:int):\n",
    "    try:\n",
    "        if int(x) > 100:\n",
    "            return 'more than 100'\n",
    "        if int(x) > 49:\n",
    "            return '50-100'\n",
    "        if int(x) > 24:\n",
    "            return '25-50'\n",
    "        return 'less than 25'\n",
    "    except:\n",
    "        pass\n",
    "    return 'no data'\n",
    "df['Number of Users'] = df['Estimated Number of Users'].apply(lambda x: getEstimatedUser(x))\n",
    "df['Number of Users'].unique()"
   ]
  },
  {
   "cell_type": "code",
   "execution_count": 5,
   "metadata": {
    "ExecuteTime": {
     "end_time": "2021-08-25T11:42:06.878461Z",
     "start_time": "2021-08-25T11:42:06.868250Z"
    }
   },
   "outputs": [],
   "source": [
    "# Remove duplicated values\n",
    "df = df[~df.duplicated(subset=['Identifier'], keep=\"last\")].reset_index()\n",
    "df = df.drop(columns=['index'])"
   ]
  },
  {
   "cell_type": "code",
   "execution_count": 6,
   "metadata": {
    "ExecuteTime": {
     "end_time": "2021-08-25T11:42:06.888691Z",
     "start_time": "2021-08-25T11:42:06.883015Z"
    }
   },
   "outputs": [],
   "source": [
    "## Delete Column with no name\n",
    "df = df.loc[:, ~df.columns.str.contains('^Unnamed')]"
   ]
  },
  {
   "cell_type": "code",
   "execution_count": 7,
   "metadata": {
    "ExecuteTime": {
     "end_time": "2021-08-25T11:42:06.910823Z",
     "start_time": "2021-08-25T11:42:06.892298Z"
    }
   },
   "outputs": [],
   "source": [
    "### Fill Empty Integer Values\n",
    "numerics = ['int16', 'int32', 'int64', 'float16', 'float32', 'float64']\n",
    "df_num = df.select_dtypes(include=numerics).drop(columns=['Latitude', 'Longitude'])\n",
    "df_num = df_num.fillna(0.0).astype(np.int32)\n",
    "df[list(df_num)] = df_num\n",
    "df['Yield'] = 0"
   ]
  },
  {
   "cell_type": "code",
   "execution_count": 8,
   "metadata": {
    "ExecuteTime": {
     "end_time": "2021-08-25T11:42:06.927958Z",
     "start_time": "2021-08-25T11:42:06.914189Z"
    }
   },
   "outputs": [],
   "source": [
    "### Replace Empty String Values\n",
    "df_str = df.select_dtypes(include=['object']).fillna(\"\")\n",
    "df[list(df_str)] = df_str"
   ]
  },
  {
   "cell_type": "code",
   "execution_count": 9,
   "metadata": {
    "ExecuteTime": {
     "end_time": "2021-08-25T11:42:06.944580Z",
     "start_time": "2021-08-25T11:42:06.934943Z"
    }
   },
   "outputs": [],
   "source": [
    "## Generate Settings \n",
    "chars =list(string.ascii_uppercase)\n",
    "chars_col = chars + [x+y for x in chars for y in chars]\n",
    "keyname = lambda x,y: {a:y[b] if (a != 'data_point_id') else 'data_point_id' for b, a in enumerate(x)}\n",
    "\n",
    "columns_length = len(list(df))\n",
    "column_names = list(df)"
   ]
  },
  {
   "cell_type": "code",
   "execution_count": 10,
   "metadata": {
    "ExecuteTime": {
     "end_time": "2021-08-25T11:42:06.967573Z",
     "start_time": "2021-08-25T11:42:06.951230Z"
    }
   },
   "outputs": [],
   "source": [
    "### Generate configs\n",
    "index = chars_col[:columns_length]\n",
    "configs = keyname(index, column_names)\n",
    "\n",
    "marker_config = {}\n",
    "latlong_config = {}\n",
    "for key in configs:\n",
    "    if(configs[key].lower() in latlong):\n",
    "        latlong_config.update({configs[key].lower(): key})\n",
    "    if(configs[key].lower() == marker['name'].lower()):\n",
    "        marker_config = { \"name\" : key}\n",
    "        \n",
    "### Locations\n",
    "loc_config = {}\n",
    "for loc in locations:\n",
    "    column_index = \"\"\n",
    "    for key in configs:\n",
    "        if loc['column'].lower() == configs[key].lower():\n",
    "            column_index = key\n",
    "    loc_config.update({loc['name'].lower(): column_index})\n",
    "\n",
    "#### Marker Color\n",
    "marker_color = [];\n",
    "for mk in marker['color']:\n",
    "    column = None\n",
    "    andColumn = None\n",
    "    for key in configs:\n",
    "        if configs[key].lower() == mk['column'].lower():\n",
    "            column = key\n",
    "        if mk['and'] != None and configs[key].lower() == mk['and'].lower():\n",
    "            andColumn = key\n",
    "    marker_color.append({\n",
    "        \"name\": mk['name'],\n",
    "        \"column\": column,\n",
    "        \"action\": mk['action'],\n",
    "        \"type\": mk['type'],\n",
    "        \"value\": mk['value'],\n",
    "        \"and\": andColumn,\n",
    "        \"and_value\": mk['and_value'],\n",
    "        \"color\": mk['color']\n",
    "    })\n",
    "marker_config['color'] = marker_color\n",
    "\n",
    "\n",
    "#### Marker Detail\n",
    "marker_detail = [];\n",
    "for mk in marker['detail']:\n",
    "    column = None\n",
    "    andColumn = None\n",
    "    for key in configs:\n",
    "        if configs[key].lower() == mk['column'].lower():\n",
    "            column = key\n",
    "        if mk['and'] != None and configs[key].lower() == mk['and'].lower():\n",
    "            andColumn = key\n",
    "    marker_detail.append({\n",
    "        \"name\": mk['name'],\n",
    "        \"column\": column,\n",
    "        \"action\": mk['action'],\n",
    "        \"type\": mk['type'],\n",
    "        \"value\": mk['value'],\n",
    "        \"and\": andColumn,\n",
    "        \"and_value\": mk['and_value']\n",
    "    })\n",
    "marker_config['detail'] = marker_detail\n",
    "    \n",
    "## Main Table\n",
    "main_config = {'name':main['name']}\n",
    "main_selector = {}\n",
    "indicators = []\n",
    "for key in configs:\n",
    "    if configs[key] == main['column']:\n",
    "        main_config.update({'key':key})\n",
    "    if configs[key] == main['select']['column']:\n",
    "        main_selector.update({'key':key,'value':main['select']['value']})\n",
    "    for i in main['indicators']:\n",
    "        if configs[key] == i['column']:\n",
    "            indicators.append({'name':i['name'],'key':key})\n",
    "main_config.update({'indicators':indicators,'select':main_selector})\n",
    "\n",
    "configs['marker'] = marker_config\n",
    "configs['locations'] = loc_config\n",
    "configs['latlong'] = latlong_config\n",
    "configs['main'] = main_config"
   ]
  },
  {
   "cell_type": "code",
   "execution_count": 11,
   "metadata": {
    "ExecuteTime": {
     "end_time": "2021-08-25T11:42:06.974001Z",
     "start_time": "2021-08-25T11:42:06.970582Z"
    }
   },
   "outputs": [],
   "source": [
    "### Replace Dataset Columns\n",
    "df.columns = index"
   ]
  },
  {
   "cell_type": "code",
   "execution_count": 12,
   "metadata": {
    "ExecuteTime": {
     "end_time": "2021-08-25T11:42:06.988954Z",
     "start_time": "2021-08-25T11:42:06.979816Z"
    },
    "scrolled": true
   },
   "outputs": [
    {
     "data": {
      "text/plain": [
       "{'A': 'Identifier',\n",
       " 'B': 'Woreda',\n",
       " 'C': 'Kebele',\n",
       " 'D': 'Village',\n",
       " 'E': 'Site Name',\n",
       " 'F': 'Latitude',\n",
       " 'G': 'Longitude',\n",
       " 'H': 'Water Source Type_1',\n",
       " 'I': 'Water Source Type',\n",
       " 'J': 'Functionality Status',\n",
       " 'K': 'Souce of Energy',\n",
       " 'L': 'Estimated Number of Users',\n",
       " 'M': 'Hand Pump Type',\n",
       " 'N': 'Organisation that installed the Water Pump',\n",
       " 'O': 'Year Commisioned',\n",
       " 'P': 'Reason for Inventory',\n",
       " 'Q': 'Functional Taps In The Scheme',\n",
       " 'R': 'Number of Non FunctionalTaps In The Scheme',\n",
       " 'S': 'Depth',\n",
       " 'T': 'Yield',\n",
       " 'U': 'Yield.1',\n",
       " 'V': 'Number of Users',\n",
       " 'marker': {'name': 'E',\n",
       "  'color': [{'name': 'Functionality Status',\n",
       "    'column': 'J',\n",
       "    'action': 'select',\n",
       "    'type': 'string',\n",
       "    'value': 'Functional',\n",
       "    'and': None,\n",
       "    'and_value': None,\n",
       "    'color': 'green'},\n",
       "   {'name': 'Functionality Status',\n",
       "    'column': 'J',\n",
       "    'action': 'select',\n",
       "    'type': 'string',\n",
       "    'value': 'Non functional',\n",
       "    'and': None,\n",
       "    'and_value': None,\n",
       "    'color': 'red'},\n",
       "   {'name': 'Functionality Status',\n",
       "    'column': 'J',\n",
       "    'action': 'select',\n",
       "    'type': 'string',\n",
       "    'value': 'No data',\n",
       "    'and': None,\n",
       "    'and_value': None,\n",
       "    'color': 'grey'},\n",
       "   {'name': 'Functionality Status',\n",
       "    'column': 'J',\n",
       "    'action': 'select',\n",
       "    'type': 'string',\n",
       "    'value': None,\n",
       "    'and': None,\n",
       "    'and_value': None,\n",
       "    'color': 'grey'}],\n",
       "  'detail': [{'name': 'Source Type',\n",
       "    'column': 'I',\n",
       "    'action': 'select',\n",
       "    'type': 'string',\n",
       "    'value': None,\n",
       "    'and': None,\n",
       "    'and_value': None},\n",
       "   {'name': 'Functionality Status',\n",
       "    'column': 'J',\n",
       "    'action': 'select',\n",
       "    'type': 'string',\n",
       "    'value': None,\n",
       "    'and': None,\n",
       "    'and_value': None}]},\n",
       " 'locations': {'level1': 'B', 'level2': 'C'},\n",
       " 'latlong': {'latitude': 'F', 'longitude': 'G'},\n",
       " 'main': {'name': 'Non-Functional Facility',\n",
       "  'key': 'E',\n",
       "  'indicators': [{'name': 'Water Source Type', 'key': 'I'},\n",
       "   {'name': 'Energy Source', 'key': 'K'},\n",
       "   {'name': 'Number of Users', 'key': 'V'}],\n",
       "  'select': {'key': 'J', 'value': ['Non functional', 'No data']}}}"
      ]
     },
     "execution_count": 12,
     "metadata": {},
     "output_type": "execute_result"
    }
   ],
   "source": [
    "configs"
   ]
  },
  {
   "cell_type": "code",
   "execution_count": 13,
   "metadata": {
    "ExecuteTime": {
     "end_time": "2021-08-25T11:42:07.026263Z",
     "start_time": "2021-08-25T11:42:06.993157Z"
    }
   },
   "outputs": [
    {
     "data": {
      "text/plain": [
       "[{'A': '0a701d7b-538d-44ae-8e9c-9f79bdf3d5f9',\n",
       "  'B': 'Shashemene',\n",
       "  'C': 'Wetera Shegule',\n",
       "  'D': 'Ardano',\n",
       "  'E': 'Ardano',\n",
       "  'F': 7.212806,\n",
       "  'G': 38.7258,\n",
       "  'H': 'Hand dug Well fitted with pump or windlass',\n",
       "  'I': 'Hand dug Well',\n",
       "  'J': 'Functional',\n",
       "  'K': 'Manual operation',\n",
       "  'L': '180',\n",
       "  'M': 'Afridev',\n",
       "  'N': '',\n",
       "  'O': 2000,\n",
       "  'P': '',\n",
       "  'Q': 0,\n",
       "  'R': 0,\n",
       "  'S': 0,\n",
       "  'T': 0,\n",
       "  'U': 0,\n",
       "  'V': 'more than 100'},\n",
       " {'A': 'd2a84811-43ac-4ad0-b35f-93400ce51ec4',\n",
       "  'B': 'Shashemene\\n',\n",
       "  'C': 'Hagugeta Keni',\n",
       "  'D': 'Qali',\n",
       "  'E': 'Qali',\n",
       "  'F': 7.250937,\n",
       "  'G': 38.62908,\n",
       "  'H': 'Hand dug Well fitted with pump or windlass',\n",
       "  'I': 'Hand dug Well',\n",
       "  'J': 'Functional',\n",
       "  'K': 'Manual operation',\n",
       "  'L': '312',\n",
       "  'M': 'Afridev',\n",
       "  'N': 'CDA',\n",
       "  'O': 2009,\n",
       "  'P': '',\n",
       "  'Q': 0,\n",
       "  'R': 0,\n",
       "  'S': 0,\n",
       "  'T': 0,\n",
       "  'U': 0,\n",
       "  'V': 'more than 100'}]"
      ]
     },
     "execution_count": 13,
     "metadata": {},
     "output_type": "execute_result"
    }
   ],
   "source": [
    "data = list(df.T.to_dict().values())\n",
    "data[:2]"
   ]
  },
  {
   "cell_type": "code",
   "execution_count": 14,
   "metadata": {
    "ExecuteTime": {
     "end_time": "2021-08-25T11:42:07.190914Z",
     "start_time": "2021-08-25T11:42:07.028951Z"
    }
   },
   "outputs": [],
   "source": [
    "### to json\n",
    "df.to_json('../resources/js/data/eth_wp_data.json', orient=\"records\", indent=2)\n",
    "\n",
    "with open('../resources/js/data/eth_wp_config.json', 'w') as outfile:\n",
    "    json.dump(configs, outfile)"
   ]
  },
  {
   "cell_type": "code",
   "execution_count": null,
   "metadata": {},
   "outputs": [],
   "source": []
  }
 ],
 "metadata": {
  "kernelspec": {
   "display_name": "Python 3",
   "language": "python",
   "name": "python3"
  },
  "language_info": {
   "codemirror_mode": {
    "name": "ipython",
    "version": 3
   },
   "file_extension": ".py",
   "mimetype": "text/x-python",
   "name": "python",
   "nbconvert_exporter": "python",
   "pygments_lexer": "ipython3",
   "version": "3.8.8"
  },
  "toc": {
   "base_numbering": 1,
   "nav_menu": {},
   "number_sections": true,
   "sideBar": true,
   "skip_h1_title": false,
   "title_cell": "Table of Contents",
   "title_sidebar": "Contents",
   "toc_cell": false,
   "toc_position": {},
   "toc_section_display": true,
   "toc_window_display": false
  }
 },
 "nbformat": 4,
 "nbformat_minor": 4
}
